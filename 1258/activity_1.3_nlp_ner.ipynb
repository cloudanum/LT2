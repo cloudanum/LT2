{
 "cells": [
  {
   "cell_type": "markdown",
   "id": "0vmwjF_hbKrE",
   "metadata": {
    "id": "0vmwjF_hbKrE"
   },
   "source": [
    "# Named Entity Recognition (NER) Activity\n",
    "\n",
    "This notebook demonstrates how to perform Named Entity Recognition (NER) using `spaCy`. We'll process a sample dataset, extract key entities like persons, organizations, and dates, and visualize the results. This exercise will help you understand how NER works and how it can be applied to analyze text data effectively.\n",
    "\n",
    "### Objectives\n",
    "1. Learn how to load and process text data with `spaCy`.\n",
    "2. Extract named entities such as persons, organizations, and dates.\n",
    "3. Visualize the extracted entities.\n",
    "4. Reflect on the results with discussion questions."
   ]
  },
  {
   "cell_type": "markdown",
   "id": "ZAVVfL_WbKrF",
   "metadata": {
    "id": "ZAVVfL_WbKrF"
   },
   "source": [
    "## Step 1: Import Libraries\n",
    "We'll start by importing the necessary libraries for this exercise."
   ]
  },
  {
   "cell_type": "code",
   "execution_count": 1,
   "id": "BpTRrFwibKrG",
   "metadata": {
    "executionInfo": {
     "elapsed": 9557,
     "status": "ok",
     "timestamp": 1736096728726,
     "user": {
      "displayName": "Imran Ahmad",
      "userId": "08683678182734146579"
     },
     "user_tz": 300
    },
    "id": "BpTRrFwibKrG"
   },
   "outputs": [],
   "source": [
    "# Import necessary libraries\n",
    "import spacy\n",
    "from spacy import displacy\n",
    "import matplotlib.pyplot as plt"
   ]
  },
  {
   "cell_type": "markdown",
   "id": "3YslPhNkbKrG",
   "metadata": {
    "id": "3YslPhNkbKrG"
   },
   "source": [
    "## Step 2: Create a Sample Dataset\n",
    "Let's create a small dataset of press releases as a string for analysis."
   ]
  },
  {
   "cell_type": "code",
   "execution_count": 2,
   "id": "mNchW6nXbKrH",
   "metadata": {
    "colab": {
     "base_uri": "https://localhost:8080/"
    },
    "executionInfo": {
     "elapsed": 3,
     "status": "ok",
     "timestamp": 1736096728726,
     "user": {
      "displayName": "Imran Ahmad",
      "userId": "08683678182734146579"
     },
     "user_tz": 300
    },
    "id": "mNchW6nXbKrH",
    "outputId": "90f1c6c3-e048-4241-aa52-b6e6a62038bb"
   },
   "outputs": [
    {
     "name": "stdout",
     "output_type": "stream",
     "text": [
      "Sample Dataset:\n",
      "\n",
      "The Secretary of State, John Doe, announced a new policy during a press conference held in Washington, D.C.,\n",
      "on January 15th, 2023. The Environmental Protection Agency (EPA) is set to implement this policy immediately.\n",
      "In another event, President Jane Smith visited New York City on February 3rd, 2023, to discuss infrastructure funding.\n",
      "\n"
     ]
    }
   ],
   "source": [
    "# Sample dataset\n",
    "sample_dataset = \"\"\"\n",
    "The Secretary of State, John Doe, announced a new policy during a press conference held in Washington, D.C.,\n",
    "on January 15th, 2023. The Environmental Protection Agency (EPA) is set to implement this policy immediately.\n",
    "In another event, President Jane Smith visited New York City on February 3rd, 2023, to discuss infrastructure funding.\n",
    "\"\"\"\n",
    "\n",
    "# Display dataset\n",
    "print(\"Sample Dataset:\")\n",
    "print(sample_dataset)"
   ]
  },
  {
   "cell_type": "markdown",
   "id": "SfH3kk1-bKrH",
   "metadata": {
    "id": "SfH3kk1-bKrH"
   },
   "source": [
    "## Step 3: Load `spaCy` Language Model\n",
    "We'll load the pre-trained English language model (`en_core_web_sm`) for processing the text."
   ]
  },
  {
   "cell_type": "code",
   "execution_count": 3,
   "id": "a715f9a8-ef34-4288-a22b-7c540c165efe",
   "metadata": {},
   "outputs": [
    {
     "name": "stdout",
     "output_type": "stream",
     "text": [
      "Collecting en-core-web-sm==3.8.0\n",
      "  Downloading https://github.com/explosion/spacy-models/releases/download/en_core_web_sm-3.8.0/en_core_web_sm-3.8.0-py3-none-any.whl (12.8 MB)\n",
      "\u001b[2K     \u001b[90m━━━━━━━━━━━━━━━━━━━━━━━━━━━━━━━━━━━━━━━━\u001b[0m \u001b[32m12.8/12.8 MB\u001b[0m \u001b[31m23.7 MB/s\u001b[0m eta \u001b[36m0:00:00\u001b[0m00:01\u001b[0m00:01\u001b[0m\n",
      "\u001b[33mWARNING: Running pip as the 'root' user can result in broken permissions and conflicting behaviour with the system package manager. It is recommended to use a virtual environment instead: https://pip.pypa.io/warnings/venv\u001b[0m\u001b[33m\n",
      "\u001b[0m\n",
      "\u001b[1m[\u001b[0m\u001b[34;49mnotice\u001b[0m\u001b[1;39;49m]\u001b[0m\u001b[39;49m A new release of pip is available: \u001b[0m\u001b[31;49m23.0.1\u001b[0m\u001b[39;49m -> \u001b[0m\u001b[32;49m24.3.1\u001b[0m\n",
      "\u001b[1m[\u001b[0m\u001b[34;49mnotice\u001b[0m\u001b[1;39;49m]\u001b[0m\u001b[39;49m To update, run: \u001b[0m\u001b[32;49mpip install --upgrade pip\u001b[0m\n",
      "\u001b[38;5;2m✔ Download and installation successful\u001b[0m\n",
      "You can now load the package via spacy.load('en_core_web_sm')\n"
     ]
    }
   ],
   "source": [
    "!python -m spacy download en_core_web_sm\n"
   ]
  },
  {
   "cell_type": "code",
   "execution_count": 4,
   "id": "5YLzfH-sbKrH",
   "metadata": {
    "colab": {
     "base_uri": "https://localhost:8080/"
    },
    "executionInfo": {
     "elapsed": 921,
     "status": "ok",
     "timestamp": 1736096729645,
     "user": {
      "displayName": "Imran Ahmad",
      "userId": "08683678182734146579"
     },
     "user_tz": 300
    },
    "id": "5YLzfH-sbKrH",
    "outputId": "6e88803f-aa68-47e4-ac52-617283a9e415"
   },
   "outputs": [
    {
     "name": "stdout",
     "output_type": "stream",
     "text": [
      "spaCy Model Loaded: en_core_web_sm\n"
     ]
    }
   ],
   "source": [
    "# Load spaCy language model\n",
    "nlp = spacy.load(\"en_core_web_sm\")\n",
    "print(\"spaCy Model Loaded: en_core_web_sm\")"
   ]
  },
  {
   "cell_type": "markdown",
   "id": "95CUdOm1bKrH",
   "metadata": {
    "id": "95CUdOm1bKrH"
   },
   "source": [
    "## Step 4: Process the Dataset\n",
    "We'll use the `spaCy` language model to process the text and extract named entities."
   ]
  },
  {
   "cell_type": "code",
   "execution_count": 5,
   "id": "RmJ5sbSPbKrH",
   "metadata": {
    "colab": {
     "base_uri": "https://localhost:8080/"
    },
    "executionInfo": {
     "elapsed": 9,
     "status": "ok",
     "timestamp": 1736096729645,
     "user": {
      "displayName": "Imran Ahmad",
      "userId": "08683678182734146579"
     },
     "user_tz": 300
    },
    "id": "RmJ5sbSPbKrH",
    "outputId": "41e24604-f652-4f5a-e78e-ae9b814c7170"
   },
   "outputs": [
    {
     "name": "stdout",
     "output_type": "stream",
     "text": [
      "Entity                         | Type           \n",
      "==================================================\n",
      "State                          | ORG            \n",
      "John Doe                       | PERSON         \n",
      "Washington                     | GPE            \n",
      "D.C.                           | GPE            \n",
      "January 15th, 2023             | DATE           \n",
      "The Environmental Protection Agency | ORG            \n",
      "EPA                            | ORG            \n",
      "Jane Smith                     | PERSON         \n",
      "New York City                  | GPE            \n",
      "February 3rd, 2023             | DATE           \n"
     ]
    }
   ],
   "source": [
    "# Process the sample dataset\n",
    "doc = nlp(sample_dataset)\n",
    "\n",
    "# Extract and display named entities\n",
    "print(f\"{'Entity':<30} | {'Type':<15}\")\n",
    "print(\"=\"*50)\n",
    "for ent in doc.ents:\n",
    "    print(f\"{ent.text:<30} | {ent.label_:<15}\")"
   ]
  },
  {
   "cell_type": "markdown",
   "id": "N29hM2WxbKrI",
   "metadata": {
    "id": "N29hM2WxbKrI"
   },
   "source": [
    "## Step 5: Organize Entities by Type\n",
    "We'll group the extracted entities into categories such as persons, organizations, dates, and locations."
   ]
  },
  {
   "cell_type": "code",
   "execution_count": 6,
   "id": "h42ZSa7rbKrI",
   "metadata": {
    "colab": {
     "base_uri": "https://localhost:8080/"
    },
    "executionInfo": {
     "elapsed": 8,
     "status": "ok",
     "timestamp": 1736096729646,
     "user": {
      "displayName": "Imran Ahmad",
      "userId": "08683678182734146579"
     },
     "user_tz": 300
    },
    "id": "h42ZSa7rbKrI",
    "outputId": "eb093c68-f2e7-4cee-d6fa-4dfc71ba97d9"
   },
   "outputs": [
    {
     "name": "stdout",
     "output_type": "stream",
     "text": [
      "\n",
      "Persons Detected: ['John Doe', 'Jane Smith']\n",
      "Organizations Detected: ['State', 'The Environmental Protection Agency', 'EPA']\n",
      "Dates Detected: ['January 15th, 2023', 'February 3rd, 2023']\n",
      "Locations Detected: ['Washington', 'D.C.', 'New York City']\n"
     ]
    }
   ],
   "source": [
    "# Organize entities by type\n",
    "persons = [ent.text for ent in doc.ents if ent.label_ == \"PERSON\"]\n",
    "organizations = [ent.text for ent in doc.ents if ent.label_ == \"ORG\"]\n",
    "dates = [ent.text for ent in doc.ents if ent.label_ == \"DATE\"]\n",
    "locations = [ent.text for ent in doc.ents if ent.label_ == \"GPE\"]\n",
    "\n",
    "# Display categorized entities\n",
    "print(\"\\nPersons Detected:\", persons)\n",
    "print(\"Organizations Detected:\", organizations)\n",
    "print(\"Dates Detected:\", dates)\n",
    "print(\"Locations Detected:\", locations)"
   ]
  },
  {
   "cell_type": "markdown",
   "id": "YukcjlG5bKrI",
   "metadata": {
    "id": "YukcjlG5bKrI"
   },
   "source": [
    "## Step 6: Visualize the Results\n",
    "We'll use `displacy` from `spaCy` to render the named entities directly on the text."
   ]
  },
  {
   "cell_type": "code",
   "execution_count": 7,
   "id": "VCZxAZ18bKrI",
   "metadata": {
    "colab": {
     "base_uri": "https://localhost:8080/",
     "height": 157
    },
    "executionInfo": {
     "elapsed": 6,
     "status": "ok",
     "timestamp": 1736096729646,
     "user": {
      "displayName": "Imran Ahmad",
      "userId": "08683678182734146579"
     },
     "user_tz": 300
    },
    "id": "VCZxAZ18bKrI",
    "outputId": "5716f8aa-6347-404b-9fa8-49cf2ddf118d"
   },
   "outputs": [
    {
     "data": {
      "text/html": [
       "<span class=\"tex2jax_ignore\"><div class=\"entities\" style=\"line-height: 2.5; direction: ltr\"><br>The Secretary of \n",
       "<mark class=\"entity\" style=\"background: #7aecec; padding: 0.45em 0.6em; margin: 0 0.25em; line-height: 1; border-radius: 0.35em;\">\n",
       "    State\n",
       "    <span style=\"font-size: 0.8em; font-weight: bold; line-height: 1; border-radius: 0.35em; vertical-align: middle; margin-left: 0.5rem\">ORG</span>\n",
       "</mark>\n",
       ", \n",
       "<mark class=\"entity\" style=\"background: #aa9cfc; padding: 0.45em 0.6em; margin: 0 0.25em; line-height: 1; border-radius: 0.35em;\">\n",
       "    John Doe\n",
       "    <span style=\"font-size: 0.8em; font-weight: bold; line-height: 1; border-radius: 0.35em; vertical-align: middle; margin-left: 0.5rem\">PERSON</span>\n",
       "</mark>\n",
       ", announced a new policy during a press conference held in \n",
       "<mark class=\"entity\" style=\"background: #feca74; padding: 0.45em 0.6em; margin: 0 0.25em; line-height: 1; border-radius: 0.35em;\">\n",
       "    Washington\n",
       "    <span style=\"font-size: 0.8em; font-weight: bold; line-height: 1; border-radius: 0.35em; vertical-align: middle; margin-left: 0.5rem\">GPE</span>\n",
       "</mark>\n",
       ", \n",
       "<mark class=\"entity\" style=\"background: #feca74; padding: 0.45em 0.6em; margin: 0 0.25em; line-height: 1; border-radius: 0.35em;\">\n",
       "    D.C.\n",
       "    <span style=\"font-size: 0.8em; font-weight: bold; line-height: 1; border-radius: 0.35em; vertical-align: middle; margin-left: 0.5rem\">GPE</span>\n",
       "</mark>\n",
       ",<br>on \n",
       "<mark class=\"entity\" style=\"background: #bfe1d9; padding: 0.45em 0.6em; margin: 0 0.25em; line-height: 1; border-radius: 0.35em;\">\n",
       "    January 15th, 2023\n",
       "    <span style=\"font-size: 0.8em; font-weight: bold; line-height: 1; border-radius: 0.35em; vertical-align: middle; margin-left: 0.5rem\">DATE</span>\n",
       "</mark>\n",
       ". \n",
       "<mark class=\"entity\" style=\"background: #7aecec; padding: 0.45em 0.6em; margin: 0 0.25em; line-height: 1; border-radius: 0.35em;\">\n",
       "    The Environmental Protection Agency\n",
       "    <span style=\"font-size: 0.8em; font-weight: bold; line-height: 1; border-radius: 0.35em; vertical-align: middle; margin-left: 0.5rem\">ORG</span>\n",
       "</mark>\n",
       " (\n",
       "<mark class=\"entity\" style=\"background: #7aecec; padding: 0.45em 0.6em; margin: 0 0.25em; line-height: 1; border-radius: 0.35em;\">\n",
       "    EPA\n",
       "    <span style=\"font-size: 0.8em; font-weight: bold; line-height: 1; border-radius: 0.35em; vertical-align: middle; margin-left: 0.5rem\">ORG</span>\n",
       "</mark>\n",
       ") is set to implement this policy immediately.<br>In another event, President \n",
       "<mark class=\"entity\" style=\"background: #aa9cfc; padding: 0.45em 0.6em; margin: 0 0.25em; line-height: 1; border-radius: 0.35em;\">\n",
       "    Jane Smith\n",
       "    <span style=\"font-size: 0.8em; font-weight: bold; line-height: 1; border-radius: 0.35em; vertical-align: middle; margin-left: 0.5rem\">PERSON</span>\n",
       "</mark>\n",
       " visited \n",
       "<mark class=\"entity\" style=\"background: #feca74; padding: 0.45em 0.6em; margin: 0 0.25em; line-height: 1; border-radius: 0.35em;\">\n",
       "    New York City\n",
       "    <span style=\"font-size: 0.8em; font-weight: bold; line-height: 1; border-radius: 0.35em; vertical-align: middle; margin-left: 0.5rem\">GPE</span>\n",
       "</mark>\n",
       " on \n",
       "<mark class=\"entity\" style=\"background: #bfe1d9; padding: 0.45em 0.6em; margin: 0 0.25em; line-height: 1; border-radius: 0.35em;\">\n",
       "    February 3rd, 2023\n",
       "    <span style=\"font-size: 0.8em; font-weight: bold; line-height: 1; border-radius: 0.35em; vertical-align: middle; margin-left: 0.5rem\">DATE</span>\n",
       "</mark>\n",
       ", to discuss infrastructure funding.<br></div></span>"
      ],
      "text/plain": [
       "<IPython.core.display.HTML object>"
      ]
     },
     "metadata": {},
     "output_type": "display_data"
    }
   ],
   "source": [
    "# Render entities with displacy\n",
    "displacy.render(doc, style=\"ent\", jupyter=True)"
   ]
  },
  {
   "cell_type": "markdown",
   "id": "HwWTzgXMbKrI",
   "metadata": {
    "id": "HwWTzgXMbKrI"
   },
   "source": [
    "## Step 7: Reflection Questions\n",
    "1. What additional entities (other than persons, organizations, dates, and locations) could be extracted from this dataset?\n",
    "2. How could the quality of the extracted entities improve with larger models?\n",
    "3. What challenges might arise when applying NER to multilingual datasets?"
   ]
  },
  {
   "cell_type": "markdown",
   "id": "G4s9UsdibKrI",
   "metadata": {
    "id": "G4s9UsdibKrI"
   },
   "source": [
    "## Step 8: Save Results to a File\n",
    "Save the extracted entities to a text file for reference."
   ]
  },
  {
   "cell_type": "code",
   "execution_count": 8,
   "id": "h1yeN0x4bKrI",
   "metadata": {
    "colab": {
     "base_uri": "https://localhost:8080/"
    },
    "executionInfo": {
     "elapsed": 5,
     "status": "ok",
     "timestamp": 1736096729646,
     "user": {
      "displayName": "Imran Ahmad",
      "userId": "08683678182734146579"
     },
     "user_tz": 300
    },
    "id": "h1yeN0x4bKrI",
    "outputId": "e9f43f40-a805-4f1a-8411-0de0ee3e1a37"
   },
   "outputs": [
    {
     "name": "stdout",
     "output_type": "stream",
     "text": [
      "Results saved to 'ner_results.txt'.\n"
     ]
    }
   ],
   "source": [
    "# Save results to a file\n",
    "with open(\"ner_results.txt\", \"w\") as file:\n",
    "    file.write(\"Named Entity Recognition (NER) Results\\n\")\n",
    "    file.write(\"=\"*40 + \"\\n\")\n",
    "    file.write(f\"Persons: {persons}\\n\")\n",
    "    file.write(f\"Organizations: {organizations}\\n\")\n",
    "    file.write(f\"Dates: {dates}\\n\")\n",
    "    file.write(f\"Locations: {locations}\\n\")\n",
    "\n",
    "print(\"Results saved to 'ner_results.txt'.\")"
   ]
  },
  {
   "cell_type": "code",
   "execution_count": null,
   "id": "6DtroikbbTmt",
   "metadata": {
    "id": "6DtroikbbTmt"
   },
   "outputs": [],
   "source": []
  }
 ],
 "metadata": {
  "colab": {
   "provenance": []
  },
  "kernelspec": {
   "display_name": "Python 3 (ipykernel)",
   "language": "python",
   "name": "python3"
  },
  "language_info": {
   "codemirror_mode": {
    "name": "ipython",
    "version": 3
   },
   "file_extension": ".py",
   "mimetype": "text/x-python",
   "name": "python",
   "nbconvert_exporter": "python",
   "pygments_lexer": "ipython3",
   "version": "3.9.21"
  }
 },
 "nbformat": 4,
 "nbformat_minor": 5
}
