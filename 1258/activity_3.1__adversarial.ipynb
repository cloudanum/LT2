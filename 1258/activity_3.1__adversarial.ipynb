{
 "cells": [
  {
   "cell_type": "markdown",
   "metadata": {
    "id": "iGImrdO6X-Ut"
   },
   "source": [
    "# **Adversarial Example Demo: Fooling AI with Altered Inputs**\n",
    "\n",
    "This notebook demonstrates how adversarial examples can be crafted to exploit vulnerabilities in AI models. We'll train a simple convolutional neural network (CNN) on the MNIST dataset, create an adversarial image using the **Fast Gradient Sign Method (FGSM)**, and observe how the model's predictions are affected."
   ]
  },
  {
   "cell_type": "markdown",
   "metadata": {
    "id": "Hzfgv6CVX-Uv"
   },
   "source": [
    "## **1. Introduction**\n",
    "\n",
    "**Goal:**\n",
    "- To demonstrate the concept of adversarial examples using an AI model trained on the MNIST dataset.\n",
    "- To highlight how small, intentional alterations to an input image can cause misclassification.\n",
    "\n",
    "**Outline:**\n",
    "- Load and preprocess the MNIST dataset.\n",
    "- Train a CNN for digit classification.\n",
    "- Use FGSM to craft adversarial examples.\n",
    "- Visualize and analyze the impact of adversarial examples on model predictions."
   ]
  },
  {
   "cell_type": "markdown",
   "metadata": {
    "id": "f-HuaO8xX-Uv"
   },
   "source": [
    "## **2. Setup and Data Preprocessing**"
   ]
  },
  {
   "cell_type": "code",
   "execution_count": 1,
   "metadata": {
    "colab": {
     "base_uri": "https://localhost:8080/"
    },
    "executionInfo": {
     "elapsed": 16732,
     "status": "ok",
     "timestamp": 1736045524266,
     "user": {
      "displayName": "Imran Ahmad",
      "userId": "08683678182734146579"
     },
     "user_tz": 300
    },
    "id": "R6dLetxNX-Uv",
    "outputId": "f30e78fc-4777-4313-c6ed-f859ca9d4057"
   },
   "outputs": [
    {
     "name": "stdout",
     "output_type": "stream",
     "text": [
      "Requirement already satisfied: tensorflow in /usr/local/lib/python3.9/site-packages (2.18.0)\n",
      "Requirement already satisfied: matplotlib in /usr/local/lib/python3.9/site-packages (3.9.4)\n",
      "Requirement already satisfied: numpy in /usr/local/lib/python3.9/site-packages (2.0.2)\n",
      "Requirement already satisfied: h5py>=3.11.0 in /usr/local/lib/python3.9/site-packages (from tensorflow) (3.12.1)\n",
      "Requirement already satisfied: gast!=0.5.0,!=0.5.1,!=0.5.2,>=0.2.1 in /usr/local/lib/python3.9/site-packages (from tensorflow) (0.6.0)\n",
      "Requirement already satisfied: opt-einsum>=2.3.2 in /usr/local/lib/python3.9/site-packages (from tensorflow) (3.4.0)\n",
      "Requirement already satisfied: tensorflow-io-gcs-filesystem>=0.23.1 in /usr/local/lib/python3.9/site-packages (from tensorflow) (0.37.1)\n",
      "Requirement already satisfied: grpcio<2.0,>=1.24.3 in /usr/local/lib/python3.9/site-packages (from tensorflow) (1.69.0)\n",
      "Requirement already satisfied: packaging in /usr/local/lib/python3.9/site-packages (from tensorflow) (24.2)\n",
      "Requirement already satisfied: libclang>=13.0.0 in /usr/local/lib/python3.9/site-packages (from tensorflow) (18.1.1)\n",
      "Requirement already satisfied: google-pasta>=0.1.1 in /usr/local/lib/python3.9/site-packages (from tensorflow) (0.2.0)\n",
      "Requirement already satisfied: termcolor>=1.1.0 in /usr/local/lib/python3.9/site-packages (from tensorflow) (2.5.0)\n",
      "Requirement already satisfied: six>=1.12.0 in /usr/local/lib/python3.9/site-packages (from tensorflow) (1.17.0)\n",
      "Requirement already satisfied: requests<3,>=2.21.0 in /usr/local/lib/python3.9/site-packages (from tensorflow) (2.32.3)\n",
      "Requirement already satisfied: setuptools in /usr/local/lib/python3.9/site-packages (from tensorflow) (58.1.0)\n",
      "Requirement already satisfied: protobuf!=4.21.0,!=4.21.1,!=4.21.2,!=4.21.3,!=4.21.4,!=4.21.5,<6.0.0dev,>=3.20.3 in /usr/local/lib/python3.9/site-packages (from tensorflow) (5.29.2)\n",
      "Requirement already satisfied: flatbuffers>=24.3.25 in /usr/local/lib/python3.9/site-packages (from tensorflow) (24.12.23)\n",
      "Requirement already satisfied: astunparse>=1.6.0 in /usr/local/lib/python3.9/site-packages (from tensorflow) (1.6.3)\n",
      "Requirement already satisfied: keras>=3.5.0 in /usr/local/lib/python3.9/site-packages (from tensorflow) (3.8.0)\n",
      "Requirement already satisfied: wrapt>=1.11.0 in /usr/local/lib/python3.9/site-packages (from tensorflow) (1.17.0)\n",
      "Requirement already satisfied: typing-extensions>=3.6.6 in /usr/local/lib/python3.9/site-packages (from tensorflow) (4.12.2)\n",
      "Requirement already satisfied: absl-py>=1.0.0 in /usr/local/lib/python3.9/site-packages (from tensorflow) (2.1.0)\n",
      "Requirement already satisfied: tensorboard<2.19,>=2.18 in /usr/local/lib/python3.9/site-packages (from tensorflow) (2.18.0)\n",
      "Requirement already satisfied: ml-dtypes<0.5.0,>=0.4.0 in /usr/local/lib/python3.9/site-packages (from tensorflow) (0.4.1)\n",
      "Requirement already satisfied: pillow>=8 in /usr/local/lib/python3.9/site-packages (from matplotlib) (11.1.0)\n",
      "Requirement already satisfied: kiwisolver>=1.3.1 in /usr/local/lib/python3.9/site-packages (from matplotlib) (1.4.7)\n",
      "Requirement already satisfied: importlib-resources>=3.2.0 in /usr/local/lib/python3.9/site-packages (from matplotlib) (6.5.2)\n",
      "Requirement already satisfied: contourpy>=1.0.1 in /usr/local/lib/python3.9/site-packages (from matplotlib) (1.3.0)\n",
      "Requirement already satisfied: fonttools>=4.22.0 in /usr/local/lib/python3.9/site-packages (from matplotlib) (4.55.3)\n",
      "Requirement already satisfied: pyparsing>=2.3.1 in /usr/local/lib/python3.9/site-packages (from matplotlib) (3.2.1)\n",
      "Requirement already satisfied: cycler>=0.10 in /usr/local/lib/python3.9/site-packages (from matplotlib) (0.12.1)\n",
      "Requirement already satisfied: python-dateutil>=2.7 in /usr/local/lib/python3.9/site-packages (from matplotlib) (2.9.0.post0)\n",
      "Requirement already satisfied: wheel<1.0,>=0.23.0 in /usr/local/lib/python3.9/site-packages (from astunparse>=1.6.0->tensorflow) (0.45.1)\n",
      "Requirement already satisfied: zipp>=3.1.0 in /usr/local/lib/python3.9/site-packages (from importlib-resources>=3.2.0->matplotlib) (3.21.0)\n",
      "Requirement already satisfied: optree in /usr/local/lib/python3.9/site-packages (from keras>=3.5.0->tensorflow) (0.13.1)\n",
      "Requirement already satisfied: namex in /usr/local/lib/python3.9/site-packages (from keras>=3.5.0->tensorflow) (0.0.8)\n",
      "Requirement already satisfied: rich in /usr/local/lib/python3.9/site-packages (from keras>=3.5.0->tensorflow) (13.9.4)\n",
      "Requirement already satisfied: certifi>=2017.4.17 in /usr/local/lib/python3.9/site-packages (from requests<3,>=2.21.0->tensorflow) (2024.12.14)\n",
      "Requirement already satisfied: urllib3<3,>=1.21.1 in /usr/local/lib/python3.9/site-packages (from requests<3,>=2.21.0->tensorflow) (2.3.0)\n",
      "Requirement already satisfied: charset-normalizer<4,>=2 in /usr/local/lib/python3.9/site-packages (from requests<3,>=2.21.0->tensorflow) (3.4.1)\n",
      "Requirement already satisfied: idna<4,>=2.5 in /usr/local/lib/python3.9/site-packages (from requests<3,>=2.21.0->tensorflow) (3.10)\n",
      "Requirement already satisfied: markdown>=2.6.8 in /usr/local/lib/python3.9/site-packages (from tensorboard<2.19,>=2.18->tensorflow) (3.7)\n",
      "Requirement already satisfied: tensorboard-data-server<0.8.0,>=0.7.0 in /usr/local/lib/python3.9/site-packages (from tensorboard<2.19,>=2.18->tensorflow) (0.7.2)\n",
      "Requirement already satisfied: werkzeug>=1.0.1 in /usr/local/lib/python3.9/site-packages (from tensorboard<2.19,>=2.18->tensorflow) (3.0.6)\n",
      "Requirement already satisfied: importlib-metadata>=4.4 in /usr/local/lib/python3.9/site-packages (from markdown>=2.6.8->tensorboard<2.19,>=2.18->tensorflow) (8.5.0)\n",
      "Requirement already satisfied: MarkupSafe>=2.1.1 in /usr/local/lib/python3.9/site-packages (from werkzeug>=1.0.1->tensorboard<2.19,>=2.18->tensorflow) (3.0.2)\n",
      "Requirement already satisfied: pygments<3.0.0,>=2.13.0 in /usr/local/lib/python3.9/site-packages (from rich->keras>=3.5.0->tensorflow) (2.19.1)\n",
      "Requirement already satisfied: markdown-it-py>=2.2.0 in /usr/local/lib/python3.9/site-packages (from rich->keras>=3.5.0->tensorflow) (3.0.0)\n",
      "Requirement already satisfied: mdurl~=0.1 in /usr/local/lib/python3.9/site-packages (from markdown-it-py>=2.2.0->rich->keras>=3.5.0->tensorflow) (0.1.2)\n",
      "\u001b[33mWARNING: Running pip as the 'root' user can result in broken permissions and conflicting behaviour with the system package manager. It is recommended to use a virtual environment instead: https://pip.pypa.io/warnings/venv\u001b[0m\u001b[33m\n",
      "\u001b[0m\n",
      "\u001b[1m[\u001b[0m\u001b[34;49mnotice\u001b[0m\u001b[1;39;49m]\u001b[0m\u001b[39;49m A new release of pip is available: \u001b[0m\u001b[31;49m23.0.1\u001b[0m\u001b[39;49m -> \u001b[0m\u001b[32;49m24.3.1\u001b[0m\n",
      "\u001b[1m[\u001b[0m\u001b[34;49mnotice\u001b[0m\u001b[1;39;49m]\u001b[0m\u001b[39;49m To update, run: \u001b[0m\u001b[32;49mpip install --upgrade pip\u001b[0m\n"
     ]
    },
    {
     "name": "stderr",
     "output_type": "stream",
     "text": [
      "2025-01-08 16:56:08.327331: I tensorflow/core/util/port.cc:153] oneDNN custom operations are on. You may see slightly different numerical results due to floating-point round-off errors from different computation orders. To turn them off, set the environment variable `TF_ENABLE_ONEDNN_OPTS=0`.\n",
      "2025-01-08 16:56:08.327727: I external/local_xla/xla/tsl/cuda/cudart_stub.cc:32] Could not find cuda drivers on your machine, GPU will not be used.\n",
      "2025-01-08 16:56:08.330047: I external/local_xla/xla/tsl/cuda/cudart_stub.cc:32] Could not find cuda drivers on your machine, GPU will not be used.\n",
      "2025-01-08 16:56:08.336237: E external/local_xla/xla/stream_executor/cuda/cuda_fft.cc:477] Unable to register cuFFT factory: Attempting to register factory for plugin cuFFT when one has already been registered\n",
      "WARNING: All log messages before absl::InitializeLog() is called are written to STDERR\n",
      "E0000 00:00:1736355368.346462      38 cuda_dnn.cc:8310] Unable to register cuDNN factory: Attempting to register factory for plugin cuDNN when one has already been registered\n",
      "E0000 00:00:1736355368.349682      38 cuda_blas.cc:1418] Unable to register cuBLAS factory: Attempting to register factory for plugin cuBLAS when one has already been registered\n",
      "2025-01-08 16:56:08.361509: I tensorflow/core/platform/cpu_feature_guard.cc:210] This TensorFlow binary is optimized to use available CPU instructions in performance-critical operations.\n",
      "To enable the following instructions: AVX2 AVX_VNNI FMA, in other operations, rebuild TensorFlow with the appropriate compiler flags.\n"
     ]
    },
    {
     "name": "stdout",
     "output_type": "stream",
     "text": [
      "Downloading data from https://storage.googleapis.com/tensorflow/tf-keras-datasets/mnist.npz\n",
      "\u001b[1m11490434/11490434\u001b[0m \u001b[32m━━━━━━━━━━━━━━━━━━━━\u001b[0m\u001b[37m\u001b[0m \u001b[1m0s\u001b[0m 0us/step\n"
     ]
    }
   ],
   "source": [
    "# Install necessary libraries (if not pre-installed)\n",
    "!pip install tensorflow matplotlib numpy\n",
    "\n",
    "# Import required libraries\n",
    "import tensorflow as tf\n",
    "import numpy as np\n",
    "import matplotlib.pyplot as plt\n",
    "\n",
    "# Load the MNIST dataset\n",
    "(x_train, y_train), (x_test, y_test) = tf.keras.datasets.mnist.load_data()\n",
    "\n",
    "# Normalize the data\n",
    "x_train, x_test = x_train / 255.0, x_test / 255.0  # Scale pixel values to [0, 1]\n",
    "\n",
    "# Prepare the dataset for the model\n",
    "x_train = x_train[..., tf.newaxis].astype(\"float32\")\n",
    "x_test = x_test[..., tf.newaxis].astype(\"float32\")"
   ]
  },
  {
   "cell_type": "markdown",
   "metadata": {
    "id": "IW6yV9TwX-Uw"
   },
   "source": [
    "## **3. Building and Training the Model**"
   ]
  },
  {
   "cell_type": "code",
   "execution_count": 2,
   "metadata": {
    "colab": {
     "base_uri": "https://localhost:8080/"
    },
    "executionInfo": {
     "elapsed": 211096,
     "status": "ok",
     "timestamp": 1736045735360,
     "user": {
      "displayName": "Imran Ahmad",
      "userId": "08683678182734146579"
     },
     "user_tz": 300
    },
    "id": "Mxylmnp5X-Uw",
    "outputId": "1b308061-10a8-420c-b15b-ab16c62dd579"
   },
   "outputs": [
    {
     "name": "stderr",
     "output_type": "stream",
     "text": [
      "/usr/local/lib/python3.9/site-packages/keras/src/layers/convolutional/base_conv.py:107: UserWarning: Do not pass an `input_shape`/`input_dim` argument to a layer. When using Sequential models, prefer using an `Input(shape)` object as the first layer in the model instead.\n",
      "  super().__init__(activity_regularizer=activity_regularizer, **kwargs)\n",
      "2025-01-08 16:56:11.225870: E external/local_xla/xla/stream_executor/cuda/cuda_driver.cc:152] failed call to cuInit: INTERNAL: CUDA error: Failed call to cuInit: UNKNOWN ERROR (303)\n"
     ]
    },
    {
     "name": "stdout",
     "output_type": "stream",
     "text": [
      "Epoch 1/3\n",
      "\u001b[1m1875/1875\u001b[0m \u001b[32m━━━━━━━━━━━━━━━━━━━━\u001b[0m\u001b[37m\u001b[0m \u001b[1m12s\u001b[0m 6ms/step - accuracy: 0.9112 - loss: 0.3006 - val_accuracy: 0.9776 - val_loss: 0.0668\n",
      "Epoch 2/3\n",
      "\u001b[1m1875/1875\u001b[0m \u001b[32m━━━━━━━━━━━━━━━━━━━━\u001b[0m\u001b[37m\u001b[0m \u001b[1m11s\u001b[0m 6ms/step - accuracy: 0.9839 - loss: 0.0517 - val_accuracy: 0.9824 - val_loss: 0.0492\n",
      "Epoch 3/3\n",
      "\u001b[1m1875/1875\u001b[0m \u001b[32m━━━━━━━━━━━━━━━━━━━━\u001b[0m\u001b[37m\u001b[0m \u001b[1m10s\u001b[0m 6ms/step - accuracy: 0.9893 - loss: 0.0335 - val_accuracy: 0.9842 - val_loss: 0.0487\n",
      "\u001b[1m313/313\u001b[0m \u001b[32m━━━━━━━━━━━━━━━━━━━━\u001b[0m\u001b[37m\u001b[0m \u001b[1m1s\u001b[0m 2ms/step - accuracy: 0.9804 - loss: 0.0633 \n",
      "Model Accuracy: 0.98\n"
     ]
    }
   ],
   "source": [
    "# Build a simple convolutional neural network model\n",
    "model = tf.keras.Sequential([\n",
    "    tf.keras.layers.Conv2D(32, (3, 3), activation='relu', input_shape=(28, 28, 1)),\n",
    "    tf.keras.layers.MaxPooling2D((2, 2)),\n",
    "    tf.keras.layers.Flatten(),\n",
    "    tf.keras.layers.Dense(128, activation='relu'),\n",
    "    tf.keras.layers.Dense(10, activation='softmax')\n",
    "])\n",
    "\n",
    "# Compile the model\n",
    "model.compile(optimizer='adam',\n",
    "              loss='sparse_categorical_crossentropy',\n",
    "              metrics=['accuracy'])\n",
    "\n",
    "# Train the model\n",
    "model.fit(x_train, y_train, epochs=3, validation_data=(x_test, y_test))\n",
    "\n",
    "# Evaluate the model\n",
    "loss, accuracy = model.evaluate(x_test, y_test)\n",
    "print(f\"Model Accuracy: {accuracy:.2f}\")"
   ]
  },
  {
   "cell_type": "markdown",
   "metadata": {
    "id": "75fIdrq0X-Uw"
   },
   "source": [
    "## **4. Visualizing the Original Image**"
   ]
  },
  {
   "cell_type": "code",
   "execution_count": 3,
   "metadata": {
    "colab": {
     "base_uri": "https://localhost:8080/",
     "height": 452
    },
    "executionInfo": {
     "elapsed": 419,
     "status": "ok",
     "timestamp": 1736045735776,
     "user": {
      "displayName": "Imran Ahmad",
      "userId": "08683678182734146579"
     },
     "user_tz": 300
    },
    "id": "kK7I0pvaX-Ux",
    "outputId": "fc1fdf1f-138a-40ac-aea2-620dbacbf621"
   },
   "outputs": [
    {
     "data": {
      "image/png": "[encoded data removed]",
      "text/plain": [
       "<Figure size 640x480 with 1 Axes>"
      ]
     },
     "metadata": {},
     "output_type": "display_data"
    }
   ],
   "source": [
    "# Select an example from the test set\n",
    "test_img = x_test[0:1]  # First image\n",
    "test_label = y_test[0]  # Corresponding label\n",
    "\n",
    "# Display the original image\n",
    "plt.title(f\"Original Image - Label: {test_label}\")\n",
    "plt.imshow(test_img[0, ..., 0], cmap='gray')\n",
    "plt.show()"
   ]
  },
  {
   "cell_type": "markdown",
   "metadata": {
    "id": "B0WhJVvhX-Ux"
   },
   "source": [
    "## **5. Crafting the Adversarial Example**"
   ]
  },
  {
   "cell_type": "code",
   "execution_count": 4,
   "metadata": {
    "executionInfo": {
     "elapsed": 3,
     "status": "ok",
     "timestamp": 1736045735777,
     "user": {
      "displayName": "Imran Ahmad",
      "userId": "08683678182734146579"
     },
     "user_tz": 300
    },
    "id": "hscnVxTrX-Ux"
   },
   "outputs": [],
   "source": [
    "# Define the FGSM method to generate adversarial examples\n",
    "def create_adversarial_example(model, input_image, true_label, epsilon=0.1):\n",
    "    input_image = tf.convert_to_tensor(input_image)\n",
    "    true_label = tf.convert_to_tensor([true_label])\n",
    "\n",
    "    with tf.GradientTape() as tape:\n",
    "        tape.watch(input_image)\n",
    "        prediction = model(input_image)\n",
    "        loss = tf.keras.losses.sparse_categorical_crossentropy(true_label, prediction)\n",
    "\n",
    "    # Compute the gradients of the loss w.r.t. the input image\n",
    "    gradient = tape.gradient(loss, input_image)\n",
    "    signed_grad = tf.sign(gradient)\n",
    "\n",
    "    # Create the adversarial example\n",
    "    adversarial_image = input_image + epsilon * signed_grad\n",
    "    adversarial_image = tf.clip_by_value(adversarial_image, 0, 1)\n",
    "    return adversarial_image\n",
    "\n",
    "# Generate the adversarial example\n",
    "epsilon = 0.2  # Perturbation factor\n",
    "adversarial_img = create_adversarial_example(model, test_img, test_label, epsilon)"
   ]
  },
  {
   "cell_type": "markdown",
   "metadata": {
    "id": "eanA3Zv1X-Ux"
   },
   "source": [
    "## **6. Visualizing the Adversarial Image**"
   ]
  },
  {
   "cell_type": "code",
   "execution_count": 5,
   "metadata": {
    "colab": {
     "base_uri": "https://localhost:8080/",
     "height": 504
    },
    "executionInfo": {
     "elapsed": 653,
     "status": "ok",
     "timestamp": 1736045736428,
     "user": {
      "displayName": "Imran Ahmad",
      "userId": "08683678182734146579"
     },
     "user_tz": 300
    },
    "id": "CNzXK1lHX-Ux",
    "outputId": "29081f3c-73ac-4993-8761-f7e175e7396c"
   },
   "outputs": [
    {
     "data": {
      "image/png": "[encoded data removed]",
      "text/plain": [
       "<Figure size 640x480 with 1 Axes>"
      ]
     },
     "metadata": {},
     "output_type": "display_data"
    },
    {
     "name": "stdout",
     "output_type": "stream",
     "text": [
      "\u001b[1m1/1\u001b[0m \u001b[32m━━━━━━━━━━━━━━━━━━━━\u001b[0m\u001b[37m\u001b[0m \u001b[1m0s\u001b[0m 44ms/step\n",
      "Original Label: 7\n",
      "Adversarial Prediction: 7\n"
     ]
    }
   ],
   "source": [
    "# Display the adversarial image\n",
    "plt.title(\"Adversarial Image\")\n",
    "plt.imshow(adversarial_img[0, ..., 0], cmap='gray')\n",
    "plt.show()\n",
    "\n",
    "# Test the model's prediction on the adversarial image\n",
    "adversarial_prediction = model.predict(adversarial_img)\n",
    "adversarial_label = np.argmax(adversarial_prediction)\n",
    "\n",
    "print(f\"Original Label: {test_label}\")\n",
    "print(f\"Adversarial Prediction: {adversarial_label}\")"
   ]
  },
  {
   "cell_type": "markdown",
   "metadata": {
    "id": "QyocLFspX-Ux"
   },
   "source": [
    "## **7. Analysis and Discussion**\n",
    "- **Visualization**:\n",
    "  - The original image is correctly classified by the model.\n",
    "  - The adversarial image contains minimal noise but causes the model to misclassify.\n",
    "- **Key Insight**:\n",
    "  - Adversarial examples exploit vulnerabilities in AI systems by introducing small, imperceptible perturbations.\n",
    "  - This demonstrates the need for robust AI models to handle adversarial attacks."
   ]
  },
  {
   "cell_type": "markdown",
   "metadata": {
    "id": "1eCOC7OtX-Ux"
   },
   "source": [
    "## **8. Quiz Questions**\n",
    "1. **What is the primary goal of generating an adversarial example?**\n",
    "   - A. To improve model accuracy\n",
    "   - B. To test the robustness of AI models against small, intentional perturbations\n",
    "   - C. To visualize dataset distributions\n",
    "   **Answer:** B\n",
    "\n",
    "2. **Which parameter in the FGSM method controls the strength of the perturbation?**\n",
    "   - A. Learning rate\n",
    "   - B. Loss function\n",
    "   - C. Epsilon\n",
    "   **Answer:** C\n",
    "\n",
    "3. **What happens if the value of epsilon is too large in the adversarial example generation?**\n",
    "   - A. The adversarial image becomes indistinguishable from the original.\n",
    "   - B. The adversarial image may look unrealistic and not represent the original input.\n",
    "   - C. The model's accuracy increases.\n",
    "   **Answer:** B"
   ]
  },
  {
   "cell_type": "markdown",
   "metadata": {
    "id": "dwEno_kpX-Ux"
   },
   "source": [
    "## \n",
    "**9. Conclusion**\n",
    "Congratulations! You have successfully:\n",
    "- Trained a CNN on the MNIST dataset.\n",
    "- Created adversarial examples using FGSM.\n",
    "- Observed how small perturbations can cause AI models to misclassify.\n",
    "\n",
    "This exercise highlights the importance of adversarial robustness in developing secure and reliable AI systems."
   ]
  }
 ],
 "metadata": {
  "colab": {
   "provenance": []
  },
  "kernelspec": {
   "display_name": "Python 3 (ipykernel)",
   "language": "python",
   "name": "python3"
  },
  "language_info": {
   "codemirror_mode": {
    "name": "ipython",
    "version": 3
   },
   "file_extension": ".py",
   "mimetype": "text/x-python",
   "name": "python",
   "nbconvert_exporter": "python",
   "pygments_lexer": "ipython3",
   "version": "3.9.21"
  }
 },
 "nbformat": 4,
 "nbformat_minor": 4
}
