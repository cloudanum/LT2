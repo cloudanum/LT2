{
 "cells": [
  {
   "cell_type": "markdown",
   "metadata": {
    "id": "rNdWfPXCjTjY"
   },
   "source": [
    "# Improving Data Quality\n",
    "\n",
    "**Learning Objectives**\n",
    "\n",
    "\n",
    "1. Resolve missing values\n",
    "2. Convert the Date feature column to a datetime format\n",
    "3. Rename a feature column, remove a value from a feature column\n",
    "4. Create one-hot encoding features\n",
    "5. Understand temporal feature conversions\n",
    "\n",
    "\n",
    "## Introduction\n",
    "\n",
    "Recall that machine learning models can only consume numeric data, and that numeric data should be \"1\"s or \"0\"s.  Data is said to be \"messy\" or \"untidy\" if it is missing attribute values, contains noise or outliers, has duplicates, wrong data, upper/lower case column names, and is essentially not ready for ingestion by a machine learning algorithm.  \n",
    "\n",
    "This notebook presents and solves some of the most common issues of \"untidy\" data.  Note that different problems will require different methods, and they are beyond the scope of this notebook.\n",
    "\n",
    "Each learning objective will correspond to a __#TODO__ in the [student lab notebook](https://github.com/GoogleCloudPlatform/training-data-analyst/blob/master/courses/machine_learning/deepdive2/launching_into_ml/labs/improve_data_quality.ipynb) -- try to complete that notebook first before reviewing this solution notebook."
   ]
  },
  {
   "cell_type": "code",
   "execution_count": 8,
   "metadata": {
    "colab": {
     "base_uri": "https://localhost:8080/"
    },
    "executionInfo": {
     "elapsed": 252,
     "status": "ok",
     "timestamp": 1735934338932,
     "user": {
      "displayName": "Imran Ahmad",
      "userId": "08683678182734146579"
     },
     "user_tz": 300
    },
    "id": "bADpxLjjv81i",
    "outputId": "981d1e39-c41e-4a98-90d5-e008a5be6cad"
   },
   "outputs": [
    {
     "name": "stdout",
     "output_type": "stream",
     "text": [
      "/usr/bin/sh: 1: sudo: not found\n"
     ]
    }
   ],
   "source": [
    "# Use the chown command to change the ownership of the repository to user\n",
    "!sudo chown -R jupyter:jupyter /home/jupyter/training-data-analyst"
   ]
  },
  {
   "cell_type": "markdown",
   "metadata": {
    "id": "Jtk-E9byv81j"
   },
   "source": [
    "### Import Libraries"
   ]
  },
  {
   "cell_type": "code",
   "execution_count": 9,
   "metadata": {
    "colab": {
     "base_uri": "https://localhost:8080/"
    },
    "executionInfo": {
     "elapsed": 3584,
     "status": "ok",
     "timestamp": 1735934342686,
     "user": {
      "displayName": "Imran Ahmad",
      "userId": "08683678182734146579"
     },
     "user_tz": 300
    },
    "id": "pdlESmP2v81j",
    "outputId": "953f2924-0afe-4419-9823-2968a5c1cc87"
   },
   "outputs": [
    {
     "name": "stdout",
     "output_type": "stream",
     "text": [
      "TensorFlow version:  2.18.0\n"
     ]
    }
   ],
   "source": [
    "# Importing necessary tensorflow library and printing the TF version.\n",
    "import tensorflow as tf\n",
    "\n",
    "print(\"TensorFlow version: \",tf.version.VERSION)\n"
   ]
  },
  {
   "cell_type": "code",
   "execution_count": 10,
   "metadata": {
    "executionInfo": {
     "elapsed": 1802,
     "status": "ok",
     "timestamp": 1735934344487,
     "user": {
      "displayName": "Imran Ahmad",
      "userId": "08683678182734146579"
     },
     "user_tz": 300
    },
    "id": "gugW7cDkv81j"
   },
   "outputs": [],
   "source": [
    "import os\n",
    "# Here we'll import Pandas and Numpy data processing libraries\n",
    "import pandas as pd\n",
    "import numpy as np\n",
    "from datetime import datetime\n",
    "# Use matplotlib for visualizing the model\n",
    "import matplotlib.pyplot as plt\n",
    "# Use seaborn for data visualization\n",
    "import seaborn as sns\n",
    "%matplotlib inline"
   ]
  },
  {
   "cell_type": "markdown",
   "metadata": {
    "id": "1Vtltki0v81j"
   },
   "source": [
    "### Load the Dataset"
   ]
  },
  {
   "cell_type": "markdown",
   "metadata": {
    "id": "AiJNko4rv81j"
   },
   "source": [
    "The dataset is based on California's [Vehicle Fuel Type Count by Zip Code](https://data.ca.gov/dataset/vehicle-fuel-type-count-by-zip-codeSynthetic) report.  The dataset has been modified to make the data \"untidy\" and is thus a synthetic representation that can be used for learning purposes.  \n"
   ]
  },
  {
   "cell_type": "code",
   "execution_count": 11,
   "metadata": {
    "colab": {
     "base_uri": "https://localhost:8080/",
     "height": 297
    },
    "executionInfo": {
     "elapsed": 147,
     "status": "error",
     "timestamp": 1735934354785,
     "user": {
      "displayName": "Imran Ahmad",
      "userId": "08683678182734146579"
     },
     "user_tz": 300
    },
    "id": "9tCJOj9Jv81j",
    "outputId": "5b63d755-b8ab-47c5-d94d-b8f46d865066"
   },
   "outputs": [],
   "source": [
    "# Creating directory to store dataset\n",
    "if not os.path.isdir(\"../data/transport\"):\n",
    "    os.makedirs(\"../data/transport\")"
   ]
  },
  {
   "cell_type": "code",
   "execution_count": 16,
   "metadata": {
    "colab": {
     "base_uri": "https://localhost:8080/"
    },
    "executionInfo": {
     "elapsed": 2652,
     "status": "ok",
     "timestamp": 1735934359446,
     "user": {
      "displayName": "Imran Ahmad",
      "userId": "08683678182734146579"
     },
     "user_tz": 300
    },
    "id": "BlKNY3TEv81j",
    "outputId": "21047c5b-dc92-447b-f382-3f8ebcaf99c5"
   },
   "outputs": [
    {
     "name": "stdout",
     "output_type": "stream",
     "text": [
      "/usr/bin/sh: 1: gsutil: not found\n"
     ]
    }
   ],
   "source": [
    "# Download the raw .csv data by copying the data from a cloud storage bucket.\n",
    "!gsutil cp gs://cloud-training/mlongcp/v3.0_MLonGC/toy_data/untidy_vehicle_data_toy.csv ../data/transport"
   ]
  },
  {
   "cell_type": "code",
   "execution_count": 13,
   "metadata": {
    "colab": {
     "base_uri": "https://localhost:8080/"
    },
    "executionInfo": {
     "elapsed": 214,
     "status": "ok",
     "timestamp": 1735934365487,
     "user": {
      "displayName": "Imran Ahmad",
      "userId": "08683678182734146579"
     },
     "user_tz": 300
    },
    "id": "JlVwF51zv81j",
    "outputId": "002929f1-27b4-45d3-b4e1-8c0ddcaf2e9a"
   },
   "outputs": [
    {
     "name": "stdout",
     "output_type": "stream",
     "text": [
      "total 0\n"
     ]
    }
   ],
   "source": [
    "# ls shows the working directory's contents.\n",
    "# Using the -l parameter will lists files with assigned permissions\n",
    "!ls -l ../data/transport"
   ]
  },
  {
   "cell_type": "code",
   "execution_count": 14,
   "metadata": {
    "colab": {
     "base_uri": "https://localhost:8080/"
    },
    "executionInfo": {
     "elapsed": 198,
     "status": "ok",
     "timestamp": 1735934401454,
     "user": {
      "displayName": "Imran Ahmad",
      "userId": "08683678182734146579"
     },
     "user_tz": 300
    },
    "id": "MtbcuZXhwJCL",
    "outputId": "a337021f-d491-4c92-c5fd-16e17675f1df"
   },
   "outputs": [
    {
     "name": "stdout",
     "output_type": "stream",
     "text": [
      "/home/courses/1258\n"
     ]
    }
   ],
   "source": [
    "!pwd"
   ]
  },
  {
   "cell_type": "markdown",
   "metadata": {
    "id": "Y_qDHrZnv81k"
   },
   "source": [
    "### Read Dataset into a Pandas DataFrame"
   ]
  },
  {
   "cell_type": "markdown",
   "metadata": {
    "id": "lM6-n6xntv3t"
   },
   "source": [
    "Next, let's read in the dataset just copied from the cloud storage bucket and create a Pandas DataFrame.  We also add a Pandas .head() function to show you the top 5 rows of data in the DataFrame. Head() and Tail() are \"best-practice\" functions used to investigate datasets.  "
   ]
  },
  {
   "cell_type": "code",
   "execution_count": 15,
   "metadata": {
    "executionInfo": {
     "elapsed": 2,
     "status": "aborted",
     "timestamp": 1735934344752,
     "user": {
      "displayName": "Imran Ahmad",
      "userId": "08683678182734146579"
     },
     "user_tz": 300
    },
    "id": "REZ57BXCLdfG"
   },
   "outputs": [
    {
     "ename": "FileNotFoundError",
     "evalue": "[Errno 2] No such file or directory: '../data/transport/untidy_vehicle_data_toy.csv'",
     "output_type": "error",
     "traceback": [
      "\u001b[0;31m---------------------------------------------------------------------------\u001b[0m",
      "\u001b[0;31mFileNotFoundError\u001b[0m                         Traceback (most recent call last)",
      "Cell \u001b[0;32mIn[15], line 2\u001b[0m\n\u001b[1;32m      1\u001b[0m \u001b[38;5;66;03m# Reading \"untidy_vehicle_data_toy.csv\" file using the read_csv() function included in the pandas library.\u001b[39;00m\n\u001b[0;32m----> 2\u001b[0m df_transport \u001b[38;5;241m=\u001b[39m \u001b[43mpd\u001b[49m\u001b[38;5;241;43m.\u001b[39;49m\u001b[43mread_csv\u001b[49m\u001b[43m(\u001b[49m\u001b[38;5;124;43m'\u001b[39;49m\u001b[38;5;124;43m../data/transport/untidy_vehicle_data_toy.csv\u001b[39;49m\u001b[38;5;124;43m'\u001b[39;49m\u001b[43m)\u001b[49m\n\u001b[1;32m      4\u001b[0m \u001b[38;5;66;03m# Output the first five rows.\u001b[39;00m\n\u001b[1;32m      5\u001b[0m df_transport\u001b[38;5;241m.\u001b[39mhead()\n",
      "File \u001b[0;32m/usr/local/lib/python3.9/site-packages/pandas/io/parsers/readers.py:1026\u001b[0m, in \u001b[0;36mread_csv\u001b[0;34m(filepath_or_buffer, sep, delimiter, header, names, index_col, usecols, dtype, engine, converters, true_values, false_values, skipinitialspace, skiprows, skipfooter, nrows, na_values, keep_default_na, na_filter, verbose, skip_blank_lines, parse_dates, infer_datetime_format, keep_date_col, date_parser, date_format, dayfirst, cache_dates, iterator, chunksize, compression, thousands, decimal, lineterminator, quotechar, quoting, doublequote, escapechar, comment, encoding, encoding_errors, dialect, on_bad_lines, delim_whitespace, low_memory, memory_map, float_precision, storage_options, dtype_backend)\u001b[0m\n\u001b[1;32m   1013\u001b[0m kwds_defaults \u001b[38;5;241m=\u001b[39m _refine_defaults_read(\n\u001b[1;32m   1014\u001b[0m     dialect,\n\u001b[1;32m   1015\u001b[0m     delimiter,\n\u001b[0;32m   (...)\u001b[0m\n\u001b[1;32m   1022\u001b[0m     dtype_backend\u001b[38;5;241m=\u001b[39mdtype_backend,\n\u001b[1;32m   1023\u001b[0m )\n\u001b[1;32m   1024\u001b[0m kwds\u001b[38;5;241m.\u001b[39mupdate(kwds_defaults)\n\u001b[0;32m-> 1026\u001b[0m \u001b[38;5;28;01mreturn\u001b[39;00m \u001b[43m_read\u001b[49m\u001b[43m(\u001b[49m\u001b[43mfilepath_or_buffer\u001b[49m\u001b[43m,\u001b[49m\u001b[43m \u001b[49m\u001b[43mkwds\u001b[49m\u001b[43m)\u001b[49m\n",
      "File \u001b[0;32m/usr/local/lib/python3.9/site-packages/pandas/io/parsers/readers.py:620\u001b[0m, in \u001b[0;36m_read\u001b[0;34m(filepath_or_buffer, kwds)\u001b[0m\n\u001b[1;32m    617\u001b[0m _validate_names(kwds\u001b[38;5;241m.\u001b[39mget(\u001b[38;5;124m\"\u001b[39m\u001b[38;5;124mnames\u001b[39m\u001b[38;5;124m\"\u001b[39m, \u001b[38;5;28;01mNone\u001b[39;00m))\n\u001b[1;32m    619\u001b[0m \u001b[38;5;66;03m# Create the parser.\u001b[39;00m\n\u001b[0;32m--> 620\u001b[0m parser \u001b[38;5;241m=\u001b[39m \u001b[43mTextFileReader\u001b[49m\u001b[43m(\u001b[49m\u001b[43mfilepath_or_buffer\u001b[49m\u001b[43m,\u001b[49m\u001b[43m \u001b[49m\u001b[38;5;241;43m*\u001b[39;49m\u001b[38;5;241;43m*\u001b[39;49m\u001b[43mkwds\u001b[49m\u001b[43m)\u001b[49m\n\u001b[1;32m    622\u001b[0m \u001b[38;5;28;01mif\u001b[39;00m chunksize \u001b[38;5;129;01mor\u001b[39;00m iterator:\n\u001b[1;32m    623\u001b[0m     \u001b[38;5;28;01mreturn\u001b[39;00m parser\n",
      "File \u001b[0;32m/usr/local/lib/python3.9/site-packages/pandas/io/parsers/readers.py:1620\u001b[0m, in \u001b[0;36mTextFileReader.__init__\u001b[0;34m(self, f, engine, **kwds)\u001b[0m\n\u001b[1;32m   1617\u001b[0m     \u001b[38;5;28mself\u001b[39m\u001b[38;5;241m.\u001b[39moptions[\u001b[38;5;124m\"\u001b[39m\u001b[38;5;124mhas_index_names\u001b[39m\u001b[38;5;124m\"\u001b[39m] \u001b[38;5;241m=\u001b[39m kwds[\u001b[38;5;124m\"\u001b[39m\u001b[38;5;124mhas_index_names\u001b[39m\u001b[38;5;124m\"\u001b[39m]\n\u001b[1;32m   1619\u001b[0m \u001b[38;5;28mself\u001b[39m\u001b[38;5;241m.\u001b[39mhandles: IOHandles \u001b[38;5;241m|\u001b[39m \u001b[38;5;28;01mNone\u001b[39;00m \u001b[38;5;241m=\u001b[39m \u001b[38;5;28;01mNone\u001b[39;00m\n\u001b[0;32m-> 1620\u001b[0m \u001b[38;5;28mself\u001b[39m\u001b[38;5;241m.\u001b[39m_engine \u001b[38;5;241m=\u001b[39m \u001b[38;5;28;43mself\u001b[39;49m\u001b[38;5;241;43m.\u001b[39;49m\u001b[43m_make_engine\u001b[49m\u001b[43m(\u001b[49m\u001b[43mf\u001b[49m\u001b[43m,\u001b[49m\u001b[43m \u001b[49m\u001b[38;5;28;43mself\u001b[39;49m\u001b[38;5;241;43m.\u001b[39;49m\u001b[43mengine\u001b[49m\u001b[43m)\u001b[49m\n",
      "File \u001b[0;32m/usr/local/lib/python3.9/site-packages/pandas/io/parsers/readers.py:1880\u001b[0m, in \u001b[0;36mTextFileReader._make_engine\u001b[0;34m(self, f, engine)\u001b[0m\n\u001b[1;32m   1878\u001b[0m     \u001b[38;5;28;01mif\u001b[39;00m \u001b[38;5;124m\"\u001b[39m\u001b[38;5;124mb\u001b[39m\u001b[38;5;124m\"\u001b[39m \u001b[38;5;129;01mnot\u001b[39;00m \u001b[38;5;129;01min\u001b[39;00m mode:\n\u001b[1;32m   1879\u001b[0m         mode \u001b[38;5;241m+\u001b[39m\u001b[38;5;241m=\u001b[39m \u001b[38;5;124m\"\u001b[39m\u001b[38;5;124mb\u001b[39m\u001b[38;5;124m\"\u001b[39m\n\u001b[0;32m-> 1880\u001b[0m \u001b[38;5;28mself\u001b[39m\u001b[38;5;241m.\u001b[39mhandles \u001b[38;5;241m=\u001b[39m \u001b[43mget_handle\u001b[49m\u001b[43m(\u001b[49m\n\u001b[1;32m   1881\u001b[0m \u001b[43m    \u001b[49m\u001b[43mf\u001b[49m\u001b[43m,\u001b[49m\n\u001b[1;32m   1882\u001b[0m \u001b[43m    \u001b[49m\u001b[43mmode\u001b[49m\u001b[43m,\u001b[49m\n\u001b[1;32m   1883\u001b[0m \u001b[43m    \u001b[49m\u001b[43mencoding\u001b[49m\u001b[38;5;241;43m=\u001b[39;49m\u001b[38;5;28;43mself\u001b[39;49m\u001b[38;5;241;43m.\u001b[39;49m\u001b[43moptions\u001b[49m\u001b[38;5;241;43m.\u001b[39;49m\u001b[43mget\u001b[49m\u001b[43m(\u001b[49m\u001b[38;5;124;43m\"\u001b[39;49m\u001b[38;5;124;43mencoding\u001b[39;49m\u001b[38;5;124;43m\"\u001b[39;49m\u001b[43m,\u001b[49m\u001b[43m \u001b[49m\u001b[38;5;28;43;01mNone\u001b[39;49;00m\u001b[43m)\u001b[49m\u001b[43m,\u001b[49m\n\u001b[1;32m   1884\u001b[0m \u001b[43m    \u001b[49m\u001b[43mcompression\u001b[49m\u001b[38;5;241;43m=\u001b[39;49m\u001b[38;5;28;43mself\u001b[39;49m\u001b[38;5;241;43m.\u001b[39;49m\u001b[43moptions\u001b[49m\u001b[38;5;241;43m.\u001b[39;49m\u001b[43mget\u001b[49m\u001b[43m(\u001b[49m\u001b[38;5;124;43m\"\u001b[39;49m\u001b[38;5;124;43mcompression\u001b[39;49m\u001b[38;5;124;43m\"\u001b[39;49m\u001b[43m,\u001b[49m\u001b[43m \u001b[49m\u001b[38;5;28;43;01mNone\u001b[39;49;00m\u001b[43m)\u001b[49m\u001b[43m,\u001b[49m\n\u001b[1;32m   1885\u001b[0m \u001b[43m    \u001b[49m\u001b[43mmemory_map\u001b[49m\u001b[38;5;241;43m=\u001b[39;49m\u001b[38;5;28;43mself\u001b[39;49m\u001b[38;5;241;43m.\u001b[39;49m\u001b[43moptions\u001b[49m\u001b[38;5;241;43m.\u001b[39;49m\u001b[43mget\u001b[49m\u001b[43m(\u001b[49m\u001b[38;5;124;43m\"\u001b[39;49m\u001b[38;5;124;43mmemory_map\u001b[39;49m\u001b[38;5;124;43m\"\u001b[39;49m\u001b[43m,\u001b[49m\u001b[43m \u001b[49m\u001b[38;5;28;43;01mFalse\u001b[39;49;00m\u001b[43m)\u001b[49m\u001b[43m,\u001b[49m\n\u001b[1;32m   1886\u001b[0m \u001b[43m    \u001b[49m\u001b[43mis_text\u001b[49m\u001b[38;5;241;43m=\u001b[39;49m\u001b[43mis_text\u001b[49m\u001b[43m,\u001b[49m\n\u001b[1;32m   1887\u001b[0m \u001b[43m    \u001b[49m\u001b[43merrors\u001b[49m\u001b[38;5;241;43m=\u001b[39;49m\u001b[38;5;28;43mself\u001b[39;49m\u001b[38;5;241;43m.\u001b[39;49m\u001b[43moptions\u001b[49m\u001b[38;5;241;43m.\u001b[39;49m\u001b[43mget\u001b[49m\u001b[43m(\u001b[49m\u001b[38;5;124;43m\"\u001b[39;49m\u001b[38;5;124;43mencoding_errors\u001b[39;49m\u001b[38;5;124;43m\"\u001b[39;49m\u001b[43m,\u001b[49m\u001b[43m \u001b[49m\u001b[38;5;124;43m\"\u001b[39;49m\u001b[38;5;124;43mstrict\u001b[39;49m\u001b[38;5;124;43m\"\u001b[39;49m\u001b[43m)\u001b[49m\u001b[43m,\u001b[49m\n\u001b[1;32m   1888\u001b[0m \u001b[43m    \u001b[49m\u001b[43mstorage_options\u001b[49m\u001b[38;5;241;43m=\u001b[39;49m\u001b[38;5;28;43mself\u001b[39;49m\u001b[38;5;241;43m.\u001b[39;49m\u001b[43moptions\u001b[49m\u001b[38;5;241;43m.\u001b[39;49m\u001b[43mget\u001b[49m\u001b[43m(\u001b[49m\u001b[38;5;124;43m\"\u001b[39;49m\u001b[38;5;124;43mstorage_options\u001b[39;49m\u001b[38;5;124;43m\"\u001b[39;49m\u001b[43m,\u001b[49m\u001b[43m \u001b[49m\u001b[38;5;28;43;01mNone\u001b[39;49;00m\u001b[43m)\u001b[49m\u001b[43m,\u001b[49m\n\u001b[1;32m   1889\u001b[0m \u001b[43m\u001b[49m\u001b[43m)\u001b[49m\n\u001b[1;32m   1890\u001b[0m \u001b[38;5;28;01massert\u001b[39;00m \u001b[38;5;28mself\u001b[39m\u001b[38;5;241m.\u001b[39mhandles \u001b[38;5;129;01mis\u001b[39;00m \u001b[38;5;129;01mnot\u001b[39;00m \u001b[38;5;28;01mNone\u001b[39;00m\n\u001b[1;32m   1891\u001b[0m f \u001b[38;5;241m=\u001b[39m \u001b[38;5;28mself\u001b[39m\u001b[38;5;241m.\u001b[39mhandles\u001b[38;5;241m.\u001b[39mhandle\n",
      "File \u001b[0;32m/usr/local/lib/python3.9/site-packages/pandas/io/common.py:873\u001b[0m, in \u001b[0;36mget_handle\u001b[0;34m(path_or_buf, mode, encoding, compression, memory_map, is_text, errors, storage_options)\u001b[0m\n\u001b[1;32m    868\u001b[0m \u001b[38;5;28;01melif\u001b[39;00m \u001b[38;5;28misinstance\u001b[39m(handle, \u001b[38;5;28mstr\u001b[39m):\n\u001b[1;32m    869\u001b[0m     \u001b[38;5;66;03m# Check whether the filename is to be opened in binary mode.\u001b[39;00m\n\u001b[1;32m    870\u001b[0m     \u001b[38;5;66;03m# Binary mode does not support 'encoding' and 'newline'.\u001b[39;00m\n\u001b[1;32m    871\u001b[0m     \u001b[38;5;28;01mif\u001b[39;00m ioargs\u001b[38;5;241m.\u001b[39mencoding \u001b[38;5;129;01mand\u001b[39;00m \u001b[38;5;124m\"\u001b[39m\u001b[38;5;124mb\u001b[39m\u001b[38;5;124m\"\u001b[39m \u001b[38;5;129;01mnot\u001b[39;00m \u001b[38;5;129;01min\u001b[39;00m ioargs\u001b[38;5;241m.\u001b[39mmode:\n\u001b[1;32m    872\u001b[0m         \u001b[38;5;66;03m# Encoding\u001b[39;00m\n\u001b[0;32m--> 873\u001b[0m         handle \u001b[38;5;241m=\u001b[39m \u001b[38;5;28;43mopen\u001b[39;49m\u001b[43m(\u001b[49m\n\u001b[1;32m    874\u001b[0m \u001b[43m            \u001b[49m\u001b[43mhandle\u001b[49m\u001b[43m,\u001b[49m\n\u001b[1;32m    875\u001b[0m \u001b[43m            \u001b[49m\u001b[43mioargs\u001b[49m\u001b[38;5;241;43m.\u001b[39;49m\u001b[43mmode\u001b[49m\u001b[43m,\u001b[49m\n\u001b[1;32m    876\u001b[0m \u001b[43m            \u001b[49m\u001b[43mencoding\u001b[49m\u001b[38;5;241;43m=\u001b[39;49m\u001b[43mioargs\u001b[49m\u001b[38;5;241;43m.\u001b[39;49m\u001b[43mencoding\u001b[49m\u001b[43m,\u001b[49m\n\u001b[1;32m    877\u001b[0m \u001b[43m            \u001b[49m\u001b[43merrors\u001b[49m\u001b[38;5;241;43m=\u001b[39;49m\u001b[43merrors\u001b[49m\u001b[43m,\u001b[49m\n\u001b[1;32m    878\u001b[0m \u001b[43m            \u001b[49m\u001b[43mnewline\u001b[49m\u001b[38;5;241;43m=\u001b[39;49m\u001b[38;5;124;43m\"\u001b[39;49m\u001b[38;5;124;43m\"\u001b[39;49m\u001b[43m,\u001b[49m\n\u001b[1;32m    879\u001b[0m \u001b[43m        \u001b[49m\u001b[43m)\u001b[49m\n\u001b[1;32m    880\u001b[0m     \u001b[38;5;28;01melse\u001b[39;00m:\n\u001b[1;32m    881\u001b[0m         \u001b[38;5;66;03m# Binary mode\u001b[39;00m\n\u001b[1;32m    882\u001b[0m         handle \u001b[38;5;241m=\u001b[39m \u001b[38;5;28mopen\u001b[39m(handle, ioargs\u001b[38;5;241m.\u001b[39mmode)\n",
      "\u001b[0;31mFileNotFoundError\u001b[0m: [Errno 2] No such file or directory: '../data/transport/untidy_vehicle_data_toy.csv'"
     ]
    }
   ],
   "source": [
    "# Reading \"untidy_vehicle_data_toy.csv\" file using the read_csv() function included in the pandas library.\n",
    "df_transport = pd.read_csv('../data/transport/untidy_vehicle_data_toy.csv')\n",
    "\n",
    "# Output the first five rows.\n",
    "df_transport.head()"
   ]
  },
  {
   "cell_type": "markdown",
   "metadata": {
    "id": "K9f615mrv81k"
   },
   "source": [
    "### DataFrame Column Data Types\n",
    "\n",
    "DataFrames may have heterogenous or \"mixed\" data types, that is, some columns are numbers, some are strings, and some are dates etc. Because CSV files do not contain information on what data types are contained in each column, Pandas infers the data types when loading the data, e.g. if a column contains only numbers, Pandas will set that column’s data type to numeric: integer or float.\n",
    "\n",
    "Run the next cell to see information on the DataFrame."
   ]
  },
  {
   "cell_type": "code",
   "execution_count": null,
   "metadata": {
    "executionInfo": {
     "elapsed": 2,
     "status": "aborted",
     "timestamp": 1735934344752,
     "user": {
      "displayName": "Imran Ahmad",
      "userId": "08683678182734146579"
     },
     "user_tz": 300
    },
    "id": "eRGG-VXFv81k"
   },
   "outputs": [],
   "source": [
    "# The .info() function will display the concise summary of an dataframe.\n",
    "df_transport.info()"
   ]
  },
  {
   "cell_type": "markdown",
   "metadata": {
    "id": "lQC6GohFv81k"
   },
   "source": [
    "From what the .info() function shows us, we have six string objects and one float object. We can definitely see more of the \"string\" object values now!"
   ]
  },
  {
   "cell_type": "code",
   "execution_count": null,
   "metadata": {
    "executionInfo": {
     "elapsed": 2,
     "status": "aborted",
     "timestamp": 1735934344752,
     "user": {
      "displayName": "Imran Ahmad",
      "userId": "08683678182734146579"
     },
     "user_tz": 300
    },
    "id": "KzmsaiBmv81k"
   },
   "outputs": [],
   "source": [
    "# Let's print out the first and last five rows of each column.\n",
    "print(df_transport,5)"
   ]
  },
  {
   "cell_type": "markdown",
   "metadata": {
    "id": "wVOltJw5v81k"
   },
   "source": [
    "### Summary Statistics\n",
    "\n",
    "At this point, we have only one column which contains a numerical value (e.g. Vehicles).  For features which contain numerical values, we are often interested in various statistical measures relating to those values. Note, that because we only have one numeric feature, we see only one summary stastic - for now.  "
   ]
  },
  {
   "cell_type": "code",
   "execution_count": null,
   "metadata": {
    "executionInfo": {
     "elapsed": 2,
     "status": "aborted",
     "timestamp": 1735934344752,
     "user": {
      "displayName": "Imran Ahmad",
      "userId": "08683678182734146579"
     },
     "user_tz": 300
    },
    "id": "jmhVDwA7v81k"
   },
   "outputs": [],
   "source": [
    "# We can use .describe() to see some summary statistics for the numeric fields in our dataframe.\n",
    "df_transport.describe()"
   ]
  },
  {
   "cell_type": "markdown",
   "metadata": {
    "id": "-We54l0bv81k"
   },
   "source": [
    "Let's investigate a bit more of our data by using the .groupby() function."
   ]
  },
  {
   "cell_type": "code",
   "execution_count": null,
   "metadata": {
    "executionInfo": {
     "elapsed": 2,
     "status": "aborted",
     "timestamp": 1735934344752,
     "user": {
      "displayName": "Imran Ahmad",
      "userId": "08683678182734146579"
     },
     "user_tz": 300
    },
    "id": "nzzl8JYKv81l"
   },
   "outputs": [],
   "source": [
    "# The .groupby() function is used for spliting the data into groups based on some criteria.\n",
    "grouped_data = df_transport.groupby(['Zip Code','Model Year','Fuel','Make','Light_Duty','Vehicles'])\n",
    "\n",
    " # Get the first entry for each month.\n",
    "df_transport.groupby('Fuel').first()"
   ]
  },
  {
   "cell_type": "markdown",
   "metadata": {
    "id": "9tLRceswv81l"
   },
   "source": [
    "### Checking for Missing Values\n",
    "\n",
    "Missing values adversely impact data quality, as they can lead the machine learning model to make inaccurate inferences about the data. Missing values can be the result of numerous factors, e.g. \"bits\" lost during streaming transmission, data entry, or perhaps a user forgot to fill in a field.  Note that Pandas recognizes both empty cells and “NaN” types as missing values."
   ]
  },
  {
   "cell_type": "markdown",
   "metadata": {
    "id": "jhhDHCVsv81l"
   },
   "source": [
    "#### Let's show the null values for all features in the DataFrame."
   ]
  },
  {
   "cell_type": "code",
   "execution_count": null,
   "metadata": {
    "executionInfo": {
     "elapsed": 2,
     "status": "aborted",
     "timestamp": 1735934344752,
     "user": {
      "displayName": "Imran Ahmad",
      "userId": "08683678182734146579"
     },
     "user_tz": 300
    },
    "id": "RXuhy5ocv81l"
   },
   "outputs": [],
   "source": [
    "df_transport.isnull().sum()"
   ]
  },
  {
   "cell_type": "markdown",
   "metadata": {
    "id": "_Fy23vUMv81l"
   },
   "source": [
    "To see a sampling of which values are missing, enter the feature column name.  You'll notice that \"False\" and \"True\" correpond to the presence or abscence of a value by index number."
   ]
  },
  {
   "cell_type": "code",
   "execution_count": null,
   "metadata": {
    "executionInfo": {
     "elapsed": 2,
     "status": "aborted",
     "timestamp": 1735934344752,
     "user": {
      "displayName": "Imran Ahmad",
      "userId": "08683678182734146579"
     },
     "user_tz": 300
    },
    "id": "sLLjxHM8v81l"
   },
   "outputs": [],
   "source": [
    "print (df_transport['Date'])\n",
    "print (df_transport['Date'].isnull())"
   ]
  },
  {
   "cell_type": "code",
   "execution_count": null,
   "metadata": {
    "executionInfo": {
     "elapsed": 2,
     "status": "aborted",
     "timestamp": 1735934344752,
     "user": {
      "displayName": "Imran Ahmad",
      "userId": "08683678182734146579"
     },
     "user_tz": 300
    },
    "id": "6GG7L2BXv81l"
   },
   "outputs": [],
   "source": [
    "print (df_transport['Make'])\n",
    "print (df_transport['Make'].isnull())"
   ]
  },
  {
   "cell_type": "code",
   "execution_count": null,
   "metadata": {
    "executionInfo": {
     "elapsed": 6197,
     "status": "aborted",
     "timestamp": 1735934344752,
     "user": {
      "displayName": "Imran Ahmad",
      "userId": "08683678182734146579"
     },
     "user_tz": 300
    },
    "id": "K1Islfyuv81l"
   },
   "outputs": [],
   "source": [
    "print (df_transport['Model Year'])\n",
    "print (df_transport['Model Year'].isnull())"
   ]
  },
  {
   "cell_type": "markdown",
   "metadata": {
    "id": "mMX7COe-v81l"
   },
   "source": [
    "### What can we deduce about the data at this point?\n"
   ]
  },
  {
   "cell_type": "markdown",
   "metadata": {
    "id": "bXA5X4qFv81l"
   },
   "source": [
    "# Let's summarize our data by row, column, features, unique, and missing values.\n"
   ]
  },
  {
   "cell_type": "code",
   "execution_count": null,
   "metadata": {
    "executionInfo": {
     "elapsed": 6196,
     "status": "aborted",
     "timestamp": 1735934344752,
     "user": {
      "displayName": "Imran Ahmad",
      "userId": "08683678182734146579"
     },
     "user_tz": 300
    },
    "id": "-7p0M385v81l"
   },
   "outputs": [],
   "source": [
    "# In Python shape() is used in pandas to give the number of rows/columns.\n",
    "# The number of rows is given by .shape[0]. The number of columns is given by .shape[1].\n",
    "# Thus, shape() consists of an array having two arguments -- rows and columns\n",
    "print (\"Rows     : \" ,df_transport.shape[0])\n",
    "print (\"Columns  : \" ,df_transport.shape[1])\n",
    "print (\"\\nFeatures : \\n\" ,df_transport.columns.tolist())\n",
    "print (\"\\nUnique values :  \\n\",df_transport.nunique())\n",
    "print (\"\\nMissing values :  \", df_transport.isnull().sum().values.sum())\n"
   ]
  },
  {
   "cell_type": "markdown",
   "metadata": {
    "id": "Nfo5_iosv81l"
   },
   "source": [
    "Let's see the data again -- this time the last five rows in the dataset."
   ]
  },
  {
   "cell_type": "code",
   "execution_count": null,
   "metadata": {
    "executionInfo": {
     "elapsed": 6196,
     "status": "aborted",
     "timestamp": 1735934344753,
     "user": {
      "displayName": "Imran Ahmad",
      "userId": "08683678182734146579"
     },
     "user_tz": 300
    },
    "id": "EWgjp9U0v81l"
   },
   "outputs": [],
   "source": [
    "# Output the last five rows in the dataset.\n",
    "df_transport.tail()"
   ]
  },
  {
   "cell_type": "markdown",
   "metadata": {
    "id": "cBFrA96Rv81l"
   },
   "source": [
    "### What Are Our Data Quality Issues?\n",
    "\n",
    "1. **Data Quality Issue #1**:  \n",
    "> **Missing Values**:\n",
    "Each feature column has multiple missing values.  In fact, we have a total of 18 missing values.\n",
    "2. **Data Quality Issue #2**:\n",
    "> **Date DataType**:  Date is shown as an \"object\" datatype and should be a datetime.  In addition, Date is in one column.  Our business requirement is to see the Date parsed out to year, month, and day.  \n",
    "3. **Data Quality Issue #3**:\n",
    "> **Model Year**: We are only interested in years greater than 2006, not \"<2006\".\n",
    "4. **Data Quality Issue #4**:  \n",
    "> **Categorical Columns**:  The feature column \"Light_Duty\" is categorical and has a \"Yes/No\" choice.  We cannot feed values like this into a machine learning model.  In addition, we need to \"one-hot encode the remaining \"string\"/\"object\" columns.\n",
    "5. **Data Quality Issue #5**:  \n",
    "> **Temporal Features**:  How do we handle year, month, and day?\n"
   ]
  },
  {
   "cell_type": "markdown",
   "metadata": {
    "id": "IfTPnPWTv81l"
   },
   "source": [
    "#### Data Quality Issue #1:  \n",
    "##### Resolving Missing Values"
   ]
  },
  {
   "cell_type": "markdown",
   "metadata": {
    "id": "-An6YJl3v81l"
   },
   "source": [
    "Most algorithms do not accept missing values.  Yet, when we see missing values in our dataset, there is always a tendency to just \"drop all the rows\" with missing values.  Although Pandas will fill in the blank space with “NaN\", we should \"handle\" them in some way.\n",
    "\n",
    "While all the methods to handle missing values is beyond the scope of this lab, there are a few methods you should consider.  For numeric columns, use the \"mean\" values to fill in the missing numeric values.  For categorical columns, use the \"mode\" (or most frequent values) to fill in missing categorical values.\n",
    "\n",
    "In this lab, we use the .apply and Lambda functions to fill every column with its own most frequent value.  You'll learn more about Lambda functions later in the lab."
   ]
  },
  {
   "cell_type": "markdown",
   "metadata": {
    "id": "srILmsfov81m"
   },
   "source": [
    "Let's check again for missing values by showing how many rows contain NaN values for each feature column."
   ]
  },
  {
   "cell_type": "code",
   "execution_count": null,
   "metadata": {
    "executionInfo": {
     "elapsed": 6195,
     "status": "aborted",
     "timestamp": 1735934344753,
     "user": {
      "displayName": "Imran Ahmad",
      "userId": "08683678182734146579"
     },
     "user_tz": 300
    },
    "id": "PFTujsosv81m"
   },
   "outputs": [],
   "source": [
    "# The isnull() method is used to check and manage NULL values in a data frame.\n",
    "# TODO 1a\n",
    "df_transport.isnull().sum()"
   ]
  },
  {
   "cell_type": "markdown",
   "metadata": {
    "id": "lzbD1C2Yv81m"
   },
   "source": [
    "Run the cell to apply the lambda function."
   ]
  },
  {
   "cell_type": "code",
   "execution_count": null,
   "metadata": {
    "executionInfo": {
     "elapsed": 6194,
     "status": "aborted",
     "timestamp": 1735934344753,
     "user": {
      "displayName": "Imran Ahmad",
      "userId": "08683678182734146579"
     },
     "user_tz": 300
    },
    "id": "lwAdV8Gnv81m"
   },
   "outputs": [],
   "source": [
    "# Here we are using the apply function with lambda.\n",
    "# We can use the apply() function to apply the lambda function to both rows and columns of a dataframe.\n",
    "# TODO 1b\n",
    "df_transport = df_transport.apply(lambda x:x.fillna(x.value_counts().index[0]))"
   ]
  },
  {
   "cell_type": "markdown",
   "metadata": {
    "id": "QGe467G7v81m"
   },
   "source": [
    "Let's check again for missing values."
   ]
  },
  {
   "cell_type": "code",
   "execution_count": null,
   "metadata": {
    "executionInfo": {
     "elapsed": 6193,
     "status": "aborted",
     "timestamp": 1735934344753,
     "user": {
      "displayName": "Imran Ahmad",
      "userId": "08683678182734146579"
     },
     "user_tz": 300
    },
    "id": "idD3bQ-6v81m"
   },
   "outputs": [],
   "source": [
    "# The isnull() method is used to check and manage NULL values in a data frame.\n",
    "# TODO 1c\n",
    "df_transport.isnull().sum()"
   ]
  },
  {
   "cell_type": "markdown",
   "metadata": {
    "id": "1gtJMQN7v81m"
   },
   "source": [
    "#### Data Quality Issue #2:  \n",
    "##### Convert the Date Feature Column to a Datetime Format"
   ]
  },
  {
   "cell_type": "code",
   "execution_count": null,
   "metadata": {
    "executionInfo": {
     "elapsed": 6193,
     "status": "aborted",
     "timestamp": 1735934344753,
     "user": {
      "displayName": "Imran Ahmad",
      "userId": "08683678182734146579"
     },
     "user_tz": 300
    },
    "id": "iIZdSXNBv81m"
   },
   "outputs": [],
   "source": [
    "# The date column is indeed shown as a string object. We can convert it to the datetime datatype with the to_datetime() function in Pandas.\n",
    "# TODO 2a\n",
    "df_transport['Date'] =  pd.to_datetime(df_transport['Date'],\n",
    "                              format='%m/%d/%Y')"
   ]
  },
  {
   "cell_type": "code",
   "execution_count": null,
   "metadata": {
    "executionInfo": {
     "elapsed": 2,
     "status": "aborted",
     "timestamp": 1735934345005,
     "user": {
      "displayName": "Imran Ahmad",
      "userId": "08683678182734146579"
     },
     "user_tz": 300
    },
    "id": "xHMg29t5v81m"
   },
   "outputs": [],
   "source": [
    "# Date is now converted and will display the concise summary of an dataframe.\n",
    "# TODO 2b\n",
    "df_transport.info()"
   ]
  },
  {
   "cell_type": "code",
   "execution_count": null,
   "metadata": {
    "executionInfo": {
     "elapsed": 2,
     "status": "aborted",
     "timestamp": 1735934345005,
     "user": {
      "displayName": "Imran Ahmad",
      "userId": "08683678182734146579"
     },
     "user_tz": 300
    },
    "id": "cjaqdBJiv81m"
   },
   "outputs": [],
   "source": [
    "# Now we will parse Date into three columns that is year, month, and day.\n",
    "df_transport['year'] = df_transport['Date'].dt.year\n",
    "df_transport['month'] = df_transport['Date'].dt.month\n",
    "df_transport['day'] = df_transport['Date'].dt.day\n",
    "\n",
    "#df['hour'] = df['date'].dt.hour - you could use this if your date format included hour.\n",
    "#df['minute'] = df['date'].dt.minute - you could use this if your date format included minute.\n",
    "\n",
    "# The .info() function will display the concise summary of an dataframe.\n",
    "df_transport.info()"
   ]
  },
  {
   "cell_type": "markdown",
   "metadata": {
    "id": "H1gsvaSiv81m"
   },
   "source": [
    "Let's confirm the Date parsing. This will also give us a another visualization of the data."
   ]
  },
  {
   "cell_type": "code",
   "execution_count": null,
   "metadata": {
    "executionInfo": {
     "elapsed": 2,
     "status": "aborted",
     "timestamp": 1735934345005,
     "user": {
      "displayName": "Imran Ahmad",
      "userId": "08683678182734146579"
     },
     "user_tz": 300
    },
    "id": "D8H9Xxd5v81m"
   },
   "outputs": [],
   "source": [
    "# Here, we are creating a new dataframe called \"grouped_data\" and grouping by on the column \"Make\"\n",
    "grouped_data = df_transport.groupby(['Make'])\n",
    "\n",
    "# Get the first entry for each month.\n",
    "df_transport.groupby('month').first()"
   ]
  },
  {
   "cell_type": "markdown",
   "metadata": {
    "id": "NMxu9QxZv81m"
   },
   "source": [
    "Now that we have Dates as a integers, let's do some additional plotting."
   ]
  },
  {
   "cell_type": "code",
   "execution_count": null,
   "metadata": {
    "executionInfo": {
     "elapsed": 2,
     "status": "aborted",
     "timestamp": 1735934345005,
     "user": {
      "displayName": "Imran Ahmad",
      "userId": "08683678182734146579"
     },
     "user_tz": 300
    },
    "id": "ItYoBbfYv81m"
   },
   "outputs": [],
   "source": [
    "# Here we will visualize our data using the figure() function in the pyplot module of matplotlib's library -- which is used to create a new figure.\n",
    "plt.figure(figsize=(10,6))\n",
    "\n",
    "# Seaborn's .jointplot() displays a relationship between 2 variables (bivariate) as well as 1D profiles (univariate) in the margins. This plot is a convenience class that wraps JointGrid.\n",
    "sns.jointplot(x='month',y='Vehicles',data=df_transport)\n",
    "\n",
    "# The title() method in matplotlib module is used to specify title of the visualization depicted and displays the title using various attributes.\n",
    "plt.title('Vehicles by Month')"
   ]
  },
  {
   "cell_type": "markdown",
   "metadata": {
    "id": "7f5gx9h_v81m"
   },
   "source": [
    "#### Data Quality Issue #3:  \n",
    "##### Rename a Feature Column and Remove a Value.  \n",
    "\n",
    "Our feature columns have different \"capitalizations\" in their names, e.g. both upper and lower \"case\".  In addition, there are \"spaces\" in some of the column names.  In addition, we are only interested in years greater than 2006, not \"<2006\".  "
   ]
  },
  {
   "cell_type": "markdown",
   "metadata": {
    "id": "FH4K8fEav81m"
   },
   "source": [
    "We can also resolve the \"case\" problem too by making all the feature column names lower case."
   ]
  },
  {
   "cell_type": "code",
   "execution_count": null,
   "metadata": {
    "executionInfo": {
     "elapsed": 2,
     "status": "aborted",
     "timestamp": 1735934345005,
     "user": {
      "displayName": "Imran Ahmad",
      "userId": "08683678182734146579"
     },
     "user_tz": 300
    },
    "id": "yfM1KnQRv81m"
   },
   "outputs": [],
   "source": [
    "# Let's remove all the spaces for feature columns by renaming them.\n",
    "# TODO 3a\n",
    "df_transport.rename(columns = { 'Date': 'date', 'Zip Code':'zipcode', 'Model Year': 'modelyear', 'Fuel': 'fuel', 'Make': 'make', 'Light_Duty': 'lightduty', 'Vehicles': 'vehicles'}, inplace = True)\n",
    "\n",
    "# Output the first two rows.\n",
    "df_transport.head(2)"
   ]
  },
  {
   "cell_type": "markdown",
   "metadata": {
    "id": "Geebp7lpv81m"
   },
   "source": [
    " **Note:** Next we create a copy of the dataframe to avoid the \"SettingWithCopyWarning: A value is trying to be set on a copy of a slice from a DataFrame\" warning.  Run the cell to remove the value '<2006' from the modelyear feature column."
   ]
  },
  {
   "cell_type": "code",
   "execution_count": null,
   "metadata": {
    "executionInfo": {
     "elapsed": 2,
     "status": "aborted",
     "timestamp": 1735934345005,
     "user": {
      "displayName": "Imran Ahmad",
      "userId": "08683678182734146579"
     },
     "user_tz": 300
    },
    "id": "hH3rwxQDv81m"
   },
   "outputs": [],
   "source": [
    "# Here, we create a copy of the dataframe to avoid copy warning issues.\n",
    "# TODO 3b\n",
    "df = df_transport.loc[df_transport.modelyear != '<2006'].copy()"
   ]
  },
  {
   "cell_type": "code",
   "execution_count": null,
   "metadata": {
    "executionInfo": {
     "elapsed": 2,
     "status": "aborted",
     "timestamp": 1735934345005,
     "user": {
      "displayName": "Imran Ahmad",
      "userId": "08683678182734146579"
     },
     "user_tz": 300
    },
    "id": "gFjP64ryv81m"
   },
   "outputs": [],
   "source": [
    "# Here we will confirm that the modelyear value '<2006' has been removed by doing a value count.\n",
    "df['modelyear'].value_counts(0)"
   ]
  },
  {
   "cell_type": "markdown",
   "metadata": {
    "id": "5F2IMe6dv81n"
   },
   "source": [
    "#### Data Quality Issue #4:  \n",
    "##### Handling Categorical Columns\n",
    "\n",
    "The feature column \"lightduty\" is categorical and has a \"Yes/No\" choice.  We cannot feed values like this into a machine learning model.  We need to convert the binary answers from strings of yes/no to integers of 1/0.  There are various methods to achieve this.  We will use the \"apply\" method with a lambda expression.  Pandas. apply() takes a function and applies it to all values of a Pandas series.\n",
    "\n",
    "##### What is a Lambda Function?\n",
    "\n",
    "Typically, Python requires that you define a function using the def keyword. However, lambda functions are anonymous -- which means there is no need to name them. The most common use case for lambda functions is in code that requires a simple one-line function (e.g. lambdas only have a single expression).  \n",
    "\n",
    "As you progress through the Course Specialization, you will see many examples where lambda functions are being used.  Now is a good time to become familiar with them."
   ]
  },
  {
   "cell_type": "code",
   "execution_count": null,
   "metadata": {
    "executionInfo": {
     "elapsed": 2,
     "status": "aborted",
     "timestamp": 1735934345005,
     "user": {
      "displayName": "Imran Ahmad",
      "userId": "08683678182734146579"
     },
     "user_tz": 300
    },
    "id": "mMkp3Z5Tv81n"
   },
   "outputs": [],
   "source": [
    "# Lets count the number of \"Yes\" and\"No's\" in the 'lightduty' feature column.\n",
    "df['lightduty'].value_counts(0)"
   ]
  },
  {
   "cell_type": "code",
   "execution_count": null,
   "metadata": {
    "executionInfo": {
     "elapsed": 2,
     "status": "aborted",
     "timestamp": 1735934345005,
     "user": {
      "displayName": "Imran Ahmad",
      "userId": "08683678182734146579"
     },
     "user_tz": 300
    },
    "id": "JduLMVomv81n"
   },
   "outputs": [],
   "source": [
    "# Let's convert the Yes to 1 and No to 0.\n",
    "# The .apply takes a function and applies it to all values of a Pandas series (e.g. lightduty).\n",
    "df.loc[:,'lightduty'] = df['lightduty'].apply(lambda x: 0 if x=='No' else 1)\n",
    "df['lightduty'].value_counts(0)"
   ]
  },
  {
   "cell_type": "code",
   "execution_count": null,
   "metadata": {
    "executionInfo": {
     "elapsed": 2,
     "status": "aborted",
     "timestamp": 1735934345005,
     "user": {
      "displayName": "Imran Ahmad",
      "userId": "08683678182734146579"
     },
     "user_tz": 300
    },
    "id": "eZ1M-rZjv81n"
   },
   "outputs": [],
   "source": [
    "# Confirm that \"lightduty\" has been converted.\n",
    "df.head()"
   ]
  },
  {
   "cell_type": "markdown",
   "metadata": {
    "id": "RG6HiXTZv81n"
   },
   "source": [
    "#### One-Hot Encoding Categorical Feature Columns\n",
    "\n",
    "Machine learning algorithms expect input vectors and not categorical features. Specifically, they cannot handle text or string values.  Thus, it is often useful to transform categorical features into vectors.\n",
    "\n",
    "One transformation method is to create dummy variables for our categorical features.  Dummy variables are a set of binary (0 or 1) variables that each represent a single class from a categorical feature.  We simply  encode the categorical variable as a one-hot vector, i.e. a vector where only one element is non-zero, or hot.  With one-hot encoding, a categorical feature becomes an array whose size is the number of possible choices for that feature."
   ]
  },
  {
   "cell_type": "markdown",
   "metadata": {
    "id": "JpGobtt_v81n"
   },
   "source": [
    "Panda provides a function called \"get_dummies\" to convert a categorical variable into dummy/indicator variables."
   ]
  },
  {
   "cell_type": "code",
   "execution_count": null,
   "metadata": {
    "executionInfo": {
     "elapsed": 2,
     "status": "aborted",
     "timestamp": 1735934345005,
     "user": {
      "displayName": "Imran Ahmad",
      "userId": "08683678182734146579"
     },
     "user_tz": 300
    },
    "id": "AV6VV8mrv81n"
   },
   "outputs": [],
   "source": [
    "# Making dummy variables for categorical data with more inputs.\n",
    "data_dummy = pd.get_dummies(df[['zipcode','modelyear', 'fuel', 'make']], drop_first=True)\n",
    "\n",
    "# Output the first five rows.\n",
    "data_dummy.head()"
   ]
  },
  {
   "cell_type": "code",
   "execution_count": null,
   "metadata": {
    "executionInfo": {
     "elapsed": 3,
     "status": "aborted",
     "timestamp": 1735934345006,
     "user": {
      "displayName": "Imran Ahmad",
      "userId": "08683678182734146579"
     },
     "user_tz": 300
    },
    "id": "a7n7xANIv81n"
   },
   "outputs": [],
   "source": [
    "# Merging (concatenate) original data frame with 'dummy' dataframe.\n",
    "# TODO 4a\n",
    "df = pd.concat([df,data_dummy], axis=1)\n",
    "df.head()"
   ]
  },
  {
   "cell_type": "code",
   "execution_count": null,
   "metadata": {
    "executionInfo": {
     "elapsed": 3,
     "status": "aborted",
     "timestamp": 1735934345006,
     "user": {
      "displayName": "Imran Ahmad",
      "userId": "08683678182734146579"
     },
     "user_tz": 300
    },
    "id": "5ZKPp2Uiv81n"
   },
   "outputs": [],
   "source": [
    "# Dropping attributes for which we made dummy variables.  Let's also drop the Date column.\n",
    "# TODO 4b\n",
    "df = df.drop(['date','zipcode','modelyear', 'fuel', 'make'], axis=1)\n"
   ]
  },
  {
   "cell_type": "code",
   "execution_count": null,
   "metadata": {
    "executionInfo": {
     "elapsed": 3,
     "status": "aborted",
     "timestamp": 1735934345006,
     "user": {
      "displayName": "Imran Ahmad",
      "userId": "08683678182734146579"
     },
     "user_tz": 300
    },
    "id": "dOH0uhB0v81n"
   },
   "outputs": [],
   "source": [
    "# Confirm that 'zipcode','modelyear', 'fuel', and 'make' have been dropped.\n",
    "df.head()"
   ]
  },
  {
   "cell_type": "markdown",
   "metadata": {
    "id": "mtc9F2Wbv81n"
   },
   "source": [
    "#### Data Quality Issue #5:  \n",
    "##### Temporal Feature Columns\n",
    "\n",
    "Our dataset now contains year, month, and day feature columns.  Let's convert the month and day feature columns to meaningful representations as a way to get us thinking about changing temporal features -- as they are sometimes overlooked.  \n",
    "\n",
    "Note that the Feature Engineering course in this Specialization will provide more depth on methods to handle year, month, day, and hour feature columns.\n"
   ]
  },
  {
   "cell_type": "code",
   "execution_count": null,
   "metadata": {
    "executionInfo": {
     "elapsed": 3,
     "status": "aborted",
     "timestamp": 1735934345006,
     "user": {
      "displayName": "Imran Ahmad",
      "userId": "08683678182734146579"
     },
     "user_tz": 300
    },
    "id": "yZQmDpaWv81n"
   },
   "outputs": [],
   "source": [
    "# Let's print the unique values for \"month\", \"day\" and \"year\" in our dataset.\n",
    "print ('Unique values of month:',df.month.unique())\n",
    "print ('Unique values of day:',df.day.unique())\n",
    "print ('Unique values of year:',df.year.unique())"
   ]
  },
  {
   "cell_type": "markdown",
   "metadata": {
    "id": "rDeNqeV0v81n"
   },
   "source": [
    "Don't worry, this is the last time we will use this code, as you can develop an input pipeline to address these temporal feature columns in TensorFlow and Keras - and it is much easier!  But, sometimes you need to appreciate what you're not going to encounter as you move through the course!\n",
    "\n",
    "Run the cell to view the output."
   ]
  },
  {
   "cell_type": "code",
   "execution_count": null,
   "metadata": {
    "executionInfo": {
     "elapsed": 3,
     "status": "aborted",
     "timestamp": 1735934345006,
     "user": {
      "displayName": "Imran Ahmad",
      "userId": "08683678182734146579"
     },
     "user_tz": 300
    },
    "id": "mN7hcSIbv81n"
   },
   "outputs": [],
   "source": [
    "# Here we map each temporal variable onto a circle such that the lowest value for that variable appears right next to the largest value. We compute the x- and y- component of that point using the sin and cos trigonometric functions.\n",
    "df['day_sin'] = np.sin(df.day*(2.*np.pi/31))\n",
    "df['day_cos'] = np.cos(df.day*(2.*np.pi/31))\n",
    "df['month_sin'] = np.sin((df.month-1)*(2.*np.pi/12))\n",
    "df['month_cos'] = np.cos((df.month-1)*(2.*np.pi/12))\n",
    "\n",
    "# Let's drop month, and day\n",
    "# TODO 5\n",
    "df = df.drop(['month','day','year'], axis=1)"
   ]
  },
  {
   "cell_type": "code",
   "execution_count": null,
   "metadata": {
    "executionInfo": {
     "elapsed": 3,
     "status": "aborted",
     "timestamp": 1735934345006,
     "user": {
      "displayName": "Imran Ahmad",
      "userId": "08683678182734146579"
     },
     "user_tz": 300
    },
    "id": "EkOzWdNhv81n"
   },
   "outputs": [],
   "source": [
    "# scroll left to see the converted month and day coluumns.\n",
    "df.tail(4)"
   ]
  },
  {
   "cell_type": "markdown",
   "metadata": {
    "id": "FaGl2tXav81n"
   },
   "source": [
    "### Conclusion\n",
    "\n",
    "This notebook introduced a few concepts to improve data quality.  We resolved missing values, converted the Date feature column to a datetime format, renamed feature columns, removed a value from a feature column, created one-hot encoding features, and converted temporal features to meaningful representations.  By the end of our lab, we gained an understanding as to why data should be \"cleaned\" and \"pre-processed\" before input into a machine learning model."
   ]
  },
  {
   "cell_type": "markdown",
   "metadata": {
    "id": "wcWyvWSWv81n"
   },
   "source": [
    "Copyright 2021 Google Inc.\n",
    "Licensed under the Apache License, Version 2.0 (the \"License\"); you may not use this file except in compliance with the License. You may obtain a copy of the License at\n",
    "http://www.apache.org/licenses/LICENSE-2.0\n",
    "Unless required by applicable law or agreed to in writing, software distributed under the License is distributed on an \"AS IS\" BASIS, WITHOUT WARRANTIES OR CONDITIONS OF ANY KIND, either express or implied. See the License for the specific language governing permissions and limitations under the License."
   ]
  }
 ],
 "metadata": {
  "colab": {
   "provenance": []
  },
  "kernelspec": {
   "display_name": "Python 3 (ipykernel)",
   "language": "python",
   "name": "python3"
  },
  "language_info": {
   "codemirror_mode": {
    "name": "ipython",
    "version": 3
   },
   "file_extension": ".py",
   "mimetype": "text/x-python",
   "name": "python",
   "nbconvert_exporter": "python",
   "pygments_lexer": "ipython3",
   "version": "3.9.21"
  }
 },
 "nbformat": 4,
 "nbformat_minor": 4
}
