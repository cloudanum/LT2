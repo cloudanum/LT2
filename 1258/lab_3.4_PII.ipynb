{
 "cells": [
  {
   "cell_type": "markdown",
   "id": "z9GlcsE4gshH",
   "metadata": {
    "id": "z9GlcsE4gshH"
   },
   "source": [
    "# NLP for Document De-Identification Using Python\n",
    "\n",
    "## Introduction\n",
    "This notebook demonstrates how to use **Natural Language Processing (NLP)** to detect and anonymize Personally Identifiable Information (PII) in text documents. PII includes sensitive information such as names, addresses, phone numbers, and emails that need to be protected for privacy and compliance with regulations like GDPR and HIPAA.\n",
    "\n",
    "### Objectives\n",
    "- Create a synthetic feedback document containing PII.\n",
    "- Use `spaCy` and `Presidio` to identify and anonymize PII.\n",
    "- Understand how to visualize and evaluate PII detection using NLP tools.\n",
    "\n",
    "By the end of this exercise, you will have learned practical methods for automating privacy compliance in datasets."
   ]
  },
  {
   "cell_type": "markdown",
   "id": "tvLlkU3ygshJ",
   "metadata": {
    "id": "tvLlkU3ygshJ"
   },
   "source": [
    "## Sections Overview\n",
    "1. Install Required Libraries\n",
    "2. Create a Synthetic Feedback Document\n",
    "3. Detect PII Entities Using spaCy\n",
    "4. Mask Detected PII\n",
    "5. Enhanced Detection and Anonymization Using Presidio\n",
    "6. Visualize Detected Entities\n",
    "7. Quiz Questions"
   ]
  },
  {
   "cell_type": "code",
   "execution_count": 1,
   "id": "Fjo4Q7JFgshJ",
   "metadata": {
    "colab": {
     "base_uri": "https://localhost:8080/"
    },
    "executionInfo": {
     "elapsed": 15549,
     "status": "ok",
     "timestamp": 1736114921166,
     "user": {
      "displayName": "Imran Ahmad",
      "userId": "08683678182734146579"
     },
     "user_tz": 300
    },
    "id": "Fjo4Q7JFgshJ",
    "outputId": "630c33e3-eded-4ae5-8fd5-24c63e016611"
   },
   "outputs": [
    {
     "name": "stdout",
     "output_type": "stream",
     "text": [
      "\u001b[33mWARNING: Running pip as the 'root' user can result in broken permissions and conflicting behaviour with the system package manager. It is recommended to use a virtual environment instead: https://pip.pypa.io/warnings/venv\u001b[0m\u001b[33m\n",
      "\u001b[0m\n",
      "\u001b[1m[\u001b[0m\u001b[34;49mnotice\u001b[0m\u001b[1;39;49m]\u001b[0m\u001b[39;49m A new release of pip is available: \u001b[0m\u001b[31;49m23.0.1\u001b[0m\u001b[39;49m -> \u001b[0m\u001b[32;49m24.3.1\u001b[0m\n",
      "\u001b[1m[\u001b[0m\u001b[34;49mnotice\u001b[0m\u001b[1;39;49m]\u001b[0m\u001b[39;49m To update, run: \u001b[0m\u001b[32;49mpip install --upgrade pip\u001b[0m\n"
     ]
    }
   ],
   "source": [
    "# Install necessary libraries\n",
    "!pip install presidio-analyzer presidio-anonymizer -q"
   ]
  },
  {
   "cell_type": "markdown",
   "id": "e5olx4vPgshK",
   "metadata": {
    "id": "e5olx4vPgshK"
   },
   "source": [
    "## Section 1: Create a Synthetic Feedback Document\n",
    "### Code Explanation\n",
    "This section creates a synthetic text document containing PII such as names, addresses, and phone numbers. The document is saved locally as `feedback_data.txt`."
   ]
  },
  {
   "cell_type": "code",
   "execution_count": 2,
   "id": "B_cl0hrUgshK",
   "metadata": {
    "colab": {
     "base_uri": "https://localhost:8080/"
    },
    "executionInfo": {
     "elapsed": 9190,
     "status": "ok",
     "timestamp": 1736114930354,
     "user": {
      "displayName": "Imran Ahmad",
      "userId": "08683678182734146579"
     },
     "user_tz": 300
    },
    "id": "B_cl0hrUgshK",
    "outputId": "64188a87-4611-475c-f64e-5bd831404273"
   },
   "outputs": [
    {
     "name": "stdout",
     "output_type": "stream",
     "text": [
      "Synthetic document created and saved as feedback_data.txt.\n"
     ]
    }
   ],
   "source": [
    "# Import required libraries\n",
    "import spacy\n",
    "\n",
    "# Step 1: Generate a synthetic document\n",
    "fake_document = \"\"\"\n",
    "Dear John Doe,\n",
    "\n",
    "We appreciate your feedback on our services. Your experience at 123 Elm Street, Springfield, was invaluable.\n",
    "If you have further concerns, please contact us at 555-1234 or email john.doe@example.com.\n",
    "Your ticket number is #12345.\n",
    "\n",
    "Best regards,\n",
    "Customer Service Team\n",
    "\"\"\"\n",
    "\n",
    "# Save the fake document to a text file\n",
    "with open(\"feedback_data.txt\", \"w\") as file:\n",
    "    file.write(fake_document)\n",
    "\n",
    "print(\"Synthetic document created and saved as feedback_data.txt.\")"
   ]
  },
  {
   "cell_type": "markdown",
   "id": "RHVkaqZBgshK",
   "metadata": {
    "id": "RHVkaqZBgshK"
   },
   "source": [
    "## Section 2: Detect PII Entities Using spaCy\n",
    "### Code Explanation\n",
    "This section uses the `spaCy` NLP library to analyze the text and identify entities such as names, locations, and phone numbers."
   ]
  },
  {
   "cell_type": "code",
   "execution_count": 3,
   "id": "28H18DNogshL",
   "metadata": {
    "colab": {
     "base_uri": "https://localhost:8080/"
    },
    "executionInfo": {
     "elapsed": 1102,
     "status": "ok",
     "timestamp": 1736114931454,
     "user": {
      "displayName": "Imran Ahmad",
      "userId": "08683678182734146579"
     },
     "user_tz": 300
    },
    "id": "28H18DNogshL",
    "outputId": "152c5961-65f1-4814-853b-3c78ae983b1f"
   },
   "outputs": [
    {
     "name": "stdout",
     "output_type": "stream",
     "text": [
      "Detected Entities:\n",
      "Entity: John Doe | Label: PERSON\n",
      "Entity: Elm Street | Label: LOC\n",
      "Entity: Springfield | Label: GPE\n",
      "Entity: 555-1234 | Label: DATE\n",
      "Entity: 12345 | Label: MONEY\n",
      "Entity: Customer Service Team\n",
      " | Label: ORG\n"
     ]
    }
   ],
   "source": [
    "# Load spaCy NLP model\n",
    "nlp = spacy.load(\"en_core_web_sm\")\n",
    "\n",
    "# Read the synthetic document\n",
    "with open(\"feedback_data.txt\", \"r\") as file:\n",
    "    feedback = file.read()\n",
    "\n",
    "# Process the document using spaCy\n",
    "doc = nlp(feedback)\n",
    "\n",
    "# Display the detected entities\n",
    "print(\"Detected Entities:\")\n",
    "for ent in doc.ents:\n",
    "    print(f\"Entity: {ent.text} | Label: {ent.label_}\")"
   ]
  },
  {
   "cell_type": "markdown",
   "id": "izgOcTYegshL",
   "metadata": {
    "id": "izgOcTYegshL"
   },
   "source": [
    "## Section 3: Mask Detected PII\n",
    "### Code Explanation\n",
    "This section replaces detected PII with placeholders (e.g., `[PERSON]` or `[LOC]`) to anonymize the document."
   ]
  },
  {
   "cell_type": "code",
   "execution_count": 4,
   "id": "dIT5uPVogshL",
   "metadata": {
    "colab": {
     "base_uri": "https://localhost:8080/"
    },
    "executionInfo": {
     "elapsed": 2,
     "status": "ok",
     "timestamp": 1736114931455,
     "user": {
      "displayName": "Imran Ahmad",
      "userId": "08683678182734146579"
     },
     "user_tz": 300
    },
    "id": "dIT5uPVogshL",
    "outputId": "ba6b2b5f-c8d9-4d0b-bd19-42b463a33885"
   },
   "outputs": [
    {
     "name": "stdout",
     "output_type": "stream",
     "text": [
      "\n",
      "Masked Document:\n",
      "\n",
      "Dear [PERSON],\n",
      "\n",
      "We appreciate your feedback on our services. Your experience at 123 [LOC], [GPE], was invaluable.\n",
      "If you have further concerns, please contact us at [DATE] or email john.doe@example.com.\n",
      "Your ticket number is #[MONEY].\n",
      "\n",
      "Best regards,\n",
      "[ORG]\n",
      "Masked document saved as masked_feedback_data.txt.\n"
     ]
    }
   ],
   "source": [
    "# Mask the detected PII\n",
    "masked_feedback = feedback\n",
    "for ent in doc.ents:\n",
    "    masked_feedback = masked_feedback.replace(ent.text, f\"[{ent.label_}]\")\n",
    "\n",
    "print(\"\\nMasked Document:\")\n",
    "print(masked_feedback)\n",
    "\n",
    "# Save the masked document to a file\n",
    "with open(\"masked_feedback_data.txt\", \"w\") as file:\n",
    "    file.write(masked_feedback)\n",
    "\n",
    "print(\"Masked document saved as masked_feedback_data.txt.\")"
   ]
  },
  {
   "cell_type": "markdown",
   "id": "SvwM8kXkgshL",
   "metadata": {
    "id": "SvwM8kXkgshL"
   },
   "source": [
    "## Section 4: Enhanced Detection and Anonymization Using Presidio\n",
    "### Code Explanation\n",
    "This section utilizes Microsoft's Presidio library to enhance PII detection and anonymize text."
   ]
  },
  {
   "cell_type": "code",
   "execution_count": 5,
   "id": "oXbhDz_QgshL",
   "metadata": {
    "colab": {
     "base_uri": "https://localhost:8080/"
    },
    "executionInfo": {
     "elapsed": 2399,
     "status": "ok",
     "timestamp": 1736115010718,
     "user": {
      "displayName": "Imran Ahmad",
      "userId": "08683678182734146579"
     },
     "user_tz": 300
    },
    "id": "oXbhDz_QgshL",
    "outputId": "ad1aa8a3-23e7-45d4-d981-845991c7a244"
   },
   "outputs": [
    {
     "name": "stdout",
     "output_type": "stream",
     "text": [
      "Collecting en-core-web-lg==3.8.0\n",
      "  Downloading https://github.com/explosion/spacy-models/releases/download/en_core_web_lg-3.8.0/en_core_web_lg-3.8.0-py3-none-any.whl (400.7 MB)\n",
      "\u001b[2K     \u001b[90m━━━━━━━━━━━━━━━━━━━━━━━━━━━━━━━━━━━━━━━\u001b[0m \u001b[32m400.7/400.7 MB\u001b[0m \u001b[31m6.2 MB/s\u001b[0m eta \u001b[36m0:00:00\u001b[0m00:01\u001b[0m00:01\u001b[0m\n",
      "Installing collected packages: en-core-web-lg\n",
      "Successfully installed en-core-web-lg-3.8.0\n",
      "\u001b[38;5;2m✔ Download and installation successful\u001b[0m\n",
      "You can now load the package via spacy.load('en_core_web_lg')\n",
      "\u001b[38;5;3m⚠ Restart to reload dependencies\u001b[0m\n",
      "If you are in a Jupyter or Colab notebook, you may need to restart Python in\n",
      "order to load all the package's dependencies. You can do this by selecting the\n",
      "'Restart kernel' or 'Restart runtime' option.\n"
     ]
    },
    {
     "name": "stderr",
     "output_type": "stream",
     "text": [
      "\u001b[33mWARNING: Running pip as the 'root' user can result in broken permissions and conflicting behaviour with the system package manager. It is recommended to use a virtual environment instead: https://pip.pypa.io/warnings/venv\u001b[0m\u001b[33m\n",
      "\u001b[0m\n",
      "\u001b[1m[\u001b[0m\u001b[34;49mnotice\u001b[0m\u001b[1;39;49m]\u001b[0m\u001b[39;49m A new release of pip is available: \u001b[0m\u001b[31;49m23.0.1\u001b[0m\u001b[39;49m -> \u001b[0m\u001b[32;49m24.3.1\u001b[0m\n",
      "\u001b[1m[\u001b[0m\u001b[34;49mnotice\u001b[0m\u001b[1;39;49m]\u001b[0m\u001b[39;49m To update, run: \u001b[0m\u001b[32;49mpip install --upgrade pip\u001b[0m\n"
     ]
    },
    {
     "name": "stdout",
     "output_type": "stream",
     "text": [
      "\n",
      "Anonymized Document using Presidio:\n",
      "text: \n",
      "Dear <PERSON>,\n",
      "\n",
      "We <IN_PAN> your feedback on our services. Your <IN_PAN> at 123 <LOCATION>, <LOCATION>, was <IN_PAN>.\n",
      "If you have further concerns, please contact us at 555-1234 or email <EMAIL_ADDRESS>.\n",
      "Your ticket number is #12345.\n",
      "\n",
      "Best regards,\n",
      "Customer Service Team\n",
      "\n",
      "items:\n",
      "[\n",
      "    {'start': 188, 'end': 203, 'entity_type': 'EMAIL_ADDRESS', 'text': '<EMAIL_ADDRESS>', 'operator': 'replace'},\n",
      "    {'start': 109, 'end': 117, 'entity_type': 'IN_PAN', 'text': '<IN_PAN>', 'operator': 'replace'},\n",
      "    {'start': 93, 'end': 103, 'entity_type': 'LOCATION', 'text': '<LOCATION>', 'operator': 'replace'},\n",
      "    {'start': 81, 'end': 91, 'entity_type': 'LOCATION', 'text': '<LOCATION>', 'operator': 'replace'},\n",
      "    {'start': 65, 'end': 73, 'entity_type': 'IN_PAN', 'text': '<IN_PAN>', 'operator': 'replace'},\n",
      "    {'start': 20, 'end': 28, 'entity_type': 'IN_PAN', 'text': '<IN_PAN>', 'operator': 'replace'},\n",
      "    {'start': 6, 'end': 14, 'entity_type': 'PERSON', 'text': '<PERSON>', 'operator': 'replace'}\n",
      "]\n",
      "\n",
      "Anonymized document saved as anonymized_feedback_data.txt.\n"
     ]
    }
   ],
   "source": [
    "from presidio_analyzer import AnalyzerEngine\n",
    "from presidio_anonymizer import AnonymizerEngine\n",
    "\n",
    "# Initialize Presidio components\n",
    "analyzer = AnalyzerEngine()\n",
    "anonymizer = AnonymizerEngine()\n",
    "\n",
    "# Analyze and anonymize the text\n",
    "results = analyzer.analyze(text=feedback, language=\"en\")\n",
    "anonymized_feedback = anonymizer.anonymize(text=feedback, analyzer_results=results)\n",
    "\n",
    "print(\"\\nAnonymized Document using Presidio:\")\n",
    "print(anonymized_feedback)\n",
    "\n",
    "\n",
    "\n",
    "print(\"Anonymized document saved as anonymized_feedback_data.txt.\")"
   ]
  },
  {
   "cell_type": "markdown",
   "id": "YRlMbA2OgshM",
   "metadata": {
    "id": "YRlMbA2OgshM"
   },
   "source": [
    "## Section 5: Visualize Detected Entities\n",
    "### Code Explanation\n",
    "This section uses `spaCy`'s `displacy` module to visualize the detected entities in the text."
   ]
  },
  {
   "cell_type": "code",
   "execution_count": 6,
   "id": "Ts-G3vjzgshM",
   "metadata": {
    "colab": {
     "base_uri": "https://localhost:8080/",
     "height": 332
    },
    "executionInfo": {
     "elapsed": 594,
     "status": "ok",
     "timestamp": 1736115015502,
     "user": {
      "displayName": "Imran Ahmad",
      "userId": "08683678182734146579"
     },
     "user_tz": 300
    },
    "id": "Ts-G3vjzgshM",
    "outputId": "2fcfbeea-61ed-4636-b3b7-00bd1238daba"
   },
   "outputs": [
    {
     "data": {
      "text/html": [
       "<span class=\"tex2jax_ignore\"><div class=\"entities\" style=\"line-height: 2.5; direction: ltr\"><br>Dear \n",
       "<mark class=\"entity\" style=\"background: #aa9cfc; padding: 0.45em 0.6em; margin: 0 0.25em; line-height: 1; border-radius: 0.35em;\">\n",
       "    John Doe\n",
       "    <span style=\"font-size: 0.8em; font-weight: bold; line-height: 1; border-radius: 0.35em; vertical-align: middle; margin-left: 0.5rem\">PERSON</span>\n",
       "</mark>\n",
       ",<br><br>We appreciate your feedback on our services. Your experience at 123 \n",
       "<mark class=\"entity\" style=\"background: #ff9561; padding: 0.45em 0.6em; margin: 0 0.25em; line-height: 1; border-radius: 0.35em;\">\n",
       "    Elm Street\n",
       "    <span style=\"font-size: 0.8em; font-weight: bold; line-height: 1; border-radius: 0.35em; vertical-align: middle; margin-left: 0.5rem\">LOC</span>\n",
       "</mark>\n",
       ", \n",
       "<mark class=\"entity\" style=\"background: #feca74; padding: 0.45em 0.6em; margin: 0 0.25em; line-height: 1; border-radius: 0.35em;\">\n",
       "    Springfield\n",
       "    <span style=\"font-size: 0.8em; font-weight: bold; line-height: 1; border-radius: 0.35em; vertical-align: middle; margin-left: 0.5rem\">GPE</span>\n",
       "</mark>\n",
       ", was invaluable.<br>If you have further concerns, please contact us at \n",
       "<mark class=\"entity\" style=\"background: #bfe1d9; padding: 0.45em 0.6em; margin: 0 0.25em; line-height: 1; border-radius: 0.35em;\">\n",
       "    555-1234\n",
       "    <span style=\"font-size: 0.8em; font-weight: bold; line-height: 1; border-radius: 0.35em; vertical-align: middle; margin-left: 0.5rem\">DATE</span>\n",
       "</mark>\n",
       " or email john.doe@example.com.<br>Your ticket number is #\n",
       "<mark class=\"entity\" style=\"background: #e4e7d2; padding: 0.45em 0.6em; margin: 0 0.25em; line-height: 1; border-radius: 0.35em;\">\n",
       "    12345\n",
       "    <span style=\"font-size: 0.8em; font-weight: bold; line-height: 1; border-radius: 0.35em; vertical-align: middle; margin-left: 0.5rem\">MONEY</span>\n",
       "</mark>\n",
       ".<br><br>Best regards,<br>\n",
       "<mark class=\"entity\" style=\"background: #7aecec; padding: 0.45em 0.6em; margin: 0 0.25em; line-height: 1; border-radius: 0.35em;\">\n",
       "    Customer Service Team\n",
       "\n",
       "    <span style=\"font-size: 0.8em; font-weight: bold; line-height: 1; border-radius: 0.35em; vertical-align: middle; margin-left: 0.5rem\">ORG</span>\n",
       "</mark>\n",
       "</div></span>"
      ],
      "text/plain": [
       "<IPython.core.display.HTML object>"
      ]
     },
     "metadata": {},
     "output_type": "display_data"
    }
   ],
   "source": [
    "from spacy import displacy\n",
    "\n",
    "# Visualize detected entities\n",
    "displacy.render(doc, style=\"ent\", jupyter=True)"
   ]
  },
  {
   "cell_type": "markdown",
   "id": "tAZNybcugshM",
   "metadata": {
    "id": "tAZNybcugshM"
   },
   "source": [
    "## Quiz Questions\n",
    "1. **What are the benefits of automating PII detection using NLP?**\n",
    "   - A. Saves time compared to manual review.\n",
    "   - B. Ensures compliance with data protection laws.\n",
    "   - C. Detects non-sensitive data.\n",
    "   - D. Both A and B.\n",
    "\n",
    "2. **Which library provides customizable PII detection and anonymization capabilities?**\n",
    "   - A. spaCy\n",
    "   - B. Presidio\n",
    "   - C. TensorFlow\n",
    "   - D. OpenCV\n",
    "\n",
    "3. **Why is it important to mask PII in datasets?**\n",
    "   - A. To enhance readability.\n",
    "   - B. To ensure privacy and avoid misuse of sensitive information.\n",
    "   - C. To improve model training performance.\n",
    "   - D. To comply with ethical hacking standards."
   ]
  },
  {
   "cell_type": "markdown",
   "id": "0QqKK_9DgshM",
   "metadata": {
    "id": "0QqKK_9DgshM"
   },
   "source": [
    "## Completion Message\n",
    "Congratulations! You have successfully anonymized a document using NLP techniques. 🎉\n",
    "\n",
    "**Next Steps:** Explore other datasets and customize your PII detection pipeline!"
   ]
  }
 ],
 "metadata": {
  "colab": {
   "provenance": []
  },
  "kernelspec": {
   "display_name": "Python 3 (ipykernel)",
   "language": "python",
   "name": "python3"
  },
  "language_info": {
   "codemirror_mode": {
    "name": "ipython",
    "version": 3
   },
   "file_extension": ".py",
   "mimetype": "text/x-python",
   "name": "python",
   "nbconvert_exporter": "python",
   "pygments_lexer": "ipython3",
   "version": "3.9.21"
  }
 },
 "nbformat": 4,
 "nbformat_minor": 5
}
